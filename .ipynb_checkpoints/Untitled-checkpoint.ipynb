{
 "cells": [
  {
   "cell_type": "code",
   "execution_count": 91,
   "id": "93adae11",
   "metadata": {},
   "outputs": [],
   "source": [
    "# import modules\n",
    "\n",
    "import pandas as pd\n",
    "import numpy as np\n",
    "import matplotlib.pyplot as plt\n",
    "import seaborn as sns\n",
    "sns.set_style(\"darkgrid\")\n",
    "\n",
    "%matplotlib inline"
   ]
  },
  {
   "cell_type": "code",
   "execution_count": 92,
   "id": "62a692e4",
   "metadata": {},
   "outputs": [],
   "source": [
    "df = pd.read_csv(\"supermarket_sales - Sheet1.csv\")"
   ]
  },
  {
   "cell_type": "code",
   "execution_count": 93,
   "id": "a08bcb51",
   "metadata": {},
   "outputs": [
    {
     "data": {
      "text/html": [
       "<div>\n",
       "<style scoped>\n",
       "    .dataframe tbody tr th:only-of-type {\n",
       "        vertical-align: middle;\n",
       "    }\n",
       "\n",
       "    .dataframe tbody tr th {\n",
       "        vertical-align: top;\n",
       "    }\n",
       "\n",
       "    .dataframe thead th {\n",
       "        text-align: right;\n",
       "    }\n",
       "</style>\n",
       "<table border=\"1\" class=\"dataframe\">\n",
       "  <thead>\n",
       "    <tr style=\"text-align: right;\">\n",
       "      <th></th>\n",
       "      <th>Invoice ID</th>\n",
       "      <th>Branch</th>\n",
       "      <th>City</th>\n",
       "      <th>Customer type</th>\n",
       "      <th>Gender</th>\n",
       "      <th>Product line</th>\n",
       "      <th>Unit price</th>\n",
       "      <th>Quantity</th>\n",
       "      <th>Tax 5%</th>\n",
       "      <th>Total</th>\n",
       "      <th>Date</th>\n",
       "      <th>Time</th>\n",
       "      <th>Payment</th>\n",
       "      <th>cogs</th>\n",
       "      <th>gross margin percentage</th>\n",
       "      <th>gross income</th>\n",
       "      <th>Rating</th>\n",
       "    </tr>\n",
       "  </thead>\n",
       "  <tbody>\n",
       "    <tr>\n",
       "      <th>0</th>\n",
       "      <td>750-67-8428</td>\n",
       "      <td>A</td>\n",
       "      <td>Yangon</td>\n",
       "      <td>Member</td>\n",
       "      <td>Female</td>\n",
       "      <td>Health and beauty</td>\n",
       "      <td>74.69</td>\n",
       "      <td>7</td>\n",
       "      <td>26.1415</td>\n",
       "      <td>548.9715</td>\n",
       "      <td>1/5/2019</td>\n",
       "      <td>13:08</td>\n",
       "      <td>Ewallet</td>\n",
       "      <td>522.83</td>\n",
       "      <td>4.761905</td>\n",
       "      <td>26.1415</td>\n",
       "      <td>9.1</td>\n",
       "    </tr>\n",
       "    <tr>\n",
       "      <th>1</th>\n",
       "      <td>226-31-3081</td>\n",
       "      <td>C</td>\n",
       "      <td>Naypyitaw</td>\n",
       "      <td>Normal</td>\n",
       "      <td>Female</td>\n",
       "      <td>Electronic accessories</td>\n",
       "      <td>15.28</td>\n",
       "      <td>5</td>\n",
       "      <td>3.8200</td>\n",
       "      <td>80.2200</td>\n",
       "      <td>3/8/2019</td>\n",
       "      <td>10:29</td>\n",
       "      <td>Cash</td>\n",
       "      <td>76.40</td>\n",
       "      <td>4.761905</td>\n",
       "      <td>3.8200</td>\n",
       "      <td>9.6</td>\n",
       "    </tr>\n",
       "    <tr>\n",
       "      <th>2</th>\n",
       "      <td>631-41-3108</td>\n",
       "      <td>A</td>\n",
       "      <td>Yangon</td>\n",
       "      <td>Normal</td>\n",
       "      <td>Male</td>\n",
       "      <td>Home and lifestyle</td>\n",
       "      <td>46.33</td>\n",
       "      <td>7</td>\n",
       "      <td>16.2155</td>\n",
       "      <td>340.5255</td>\n",
       "      <td>3/3/2019</td>\n",
       "      <td>13:23</td>\n",
       "      <td>Credit card</td>\n",
       "      <td>324.31</td>\n",
       "      <td>4.761905</td>\n",
       "      <td>16.2155</td>\n",
       "      <td>7.4</td>\n",
       "    </tr>\n",
       "    <tr>\n",
       "      <th>3</th>\n",
       "      <td>123-19-1176</td>\n",
       "      <td>A</td>\n",
       "      <td>Yangon</td>\n",
       "      <td>Member</td>\n",
       "      <td>Male</td>\n",
       "      <td>Health and beauty</td>\n",
       "      <td>58.22</td>\n",
       "      <td>8</td>\n",
       "      <td>23.2880</td>\n",
       "      <td>489.0480</td>\n",
       "      <td>1/27/2019</td>\n",
       "      <td>20:33</td>\n",
       "      <td>Ewallet</td>\n",
       "      <td>465.76</td>\n",
       "      <td>4.761905</td>\n",
       "      <td>23.2880</td>\n",
       "      <td>8.4</td>\n",
       "    </tr>\n",
       "    <tr>\n",
       "      <th>4</th>\n",
       "      <td>373-73-7910</td>\n",
       "      <td>A</td>\n",
       "      <td>Yangon</td>\n",
       "      <td>Normal</td>\n",
       "      <td>Male</td>\n",
       "      <td>Sports and travel</td>\n",
       "      <td>86.31</td>\n",
       "      <td>7</td>\n",
       "      <td>30.2085</td>\n",
       "      <td>634.3785</td>\n",
       "      <td>2/8/2019</td>\n",
       "      <td>10:37</td>\n",
       "      <td>Ewallet</td>\n",
       "      <td>604.17</td>\n",
       "      <td>4.761905</td>\n",
       "      <td>30.2085</td>\n",
       "      <td>5.3</td>\n",
       "    </tr>\n",
       "  </tbody>\n",
       "</table>\n",
       "</div>"
      ],
      "text/plain": [
       "    Invoice ID Branch       City Customer type  Gender  \\\n",
       "0  750-67-8428      A     Yangon        Member  Female   \n",
       "1  226-31-3081      C  Naypyitaw        Normal  Female   \n",
       "2  631-41-3108      A     Yangon        Normal    Male   \n",
       "3  123-19-1176      A     Yangon        Member    Male   \n",
       "4  373-73-7910      A     Yangon        Normal    Male   \n",
       "\n",
       "             Product line  Unit price  Quantity   Tax 5%     Total       Date  \\\n",
       "0       Health and beauty       74.69         7  26.1415  548.9715   1/5/2019   \n",
       "1  Electronic accessories       15.28         5   3.8200   80.2200   3/8/2019   \n",
       "2      Home and lifestyle       46.33         7  16.2155  340.5255   3/3/2019   \n",
       "3       Health and beauty       58.22         8  23.2880  489.0480  1/27/2019   \n",
       "4       Sports and travel       86.31         7  30.2085  634.3785   2/8/2019   \n",
       "\n",
       "    Time      Payment    cogs  gross margin percentage  gross income  Rating  \n",
       "0  13:08      Ewallet  522.83                 4.761905       26.1415     9.1  \n",
       "1  10:29         Cash   76.40                 4.761905        3.8200     9.6  \n",
       "2  13:23  Credit card  324.31                 4.761905       16.2155     7.4  \n",
       "3  20:33      Ewallet  465.76                 4.761905       23.2880     8.4  \n",
       "4  10:37      Ewallet  604.17                 4.761905       30.2085     5.3  "
      ]
     },
     "execution_count": 93,
     "metadata": {},
     "output_type": "execute_result"
    }
   ],
   "source": [
    "df.head()"
   ]
  },
  {
   "cell_type": "code",
   "execution_count": 94,
   "id": "131290d6",
   "metadata": {},
   "outputs": [
    {
     "data": {
      "text/plain": [
       "(1000, 17)"
      ]
     },
     "execution_count": 94,
     "metadata": {},
     "output_type": "execute_result"
    }
   ],
   "source": [
    "df.shape"
   ]
  },
  {
   "cell_type": "code",
   "execution_count": 180,
   "id": "ab200267",
   "metadata": {},
   "outputs": [
    {
     "name": "stdout",
     "output_type": "stream",
     "text": [
      "<class 'pandas.core.frame.DataFrame'>\n",
      "RangeIndex: 1000 entries, 0 to 999\n",
      "Data columns (total 18 columns):\n",
      " #   Column                   Non-Null Count  Dtype  \n",
      "---  ------                   --------------  -----  \n",
      " 0   Invoice ID               1000 non-null   object \n",
      " 1   Branch                   1000 non-null   object \n",
      " 2   City                     1000 non-null   object \n",
      " 3   Customer type            1000 non-null   object \n",
      " 4   Gender                   1000 non-null   object \n",
      " 5   Product line             1000 non-null   object \n",
      " 6   Unit price               1000 non-null   float64\n",
      " 7   Quantity                 1000 non-null   int64  \n",
      " 8   Tax 5%                   1000 non-null   float64\n",
      " 9   Total                    1000 non-null   float64\n",
      " 10  Date                     1000 non-null   object \n",
      " 11  Time                     1000 non-null   object \n",
      " 12  Payment                  1000 non-null   object \n",
      " 13  cogs                     1000 non-null   float64\n",
      " 14  gross margin percentage  1000 non-null   float64\n",
      " 15  gross income             1000 non-null   float64\n",
      " 16  Rating                   1000 non-null   int32  \n",
      " 17  Hour                     1000 non-null   int64  \n",
      "dtypes: float64(6), int32(1), int64(2), object(9)\n",
      "memory usage: 136.8+ KB\n"
     ]
    }
   ],
   "source": [
    "df.info()"
   ]
  },
  {
   "cell_type": "code",
   "execution_count": 95,
   "id": "8daac281",
   "metadata": {},
   "outputs": [
    {
     "data": {
      "text/html": [
       "<div>\n",
       "<style scoped>\n",
       "    .dataframe tbody tr th:only-of-type {\n",
       "        vertical-align: middle;\n",
       "    }\n",
       "\n",
       "    .dataframe tbody tr th {\n",
       "        vertical-align: top;\n",
       "    }\n",
       "\n",
       "    .dataframe thead th {\n",
       "        text-align: right;\n",
       "    }\n",
       "</style>\n",
       "<table border=\"1\" class=\"dataframe\">\n",
       "  <thead>\n",
       "    <tr style=\"text-align: right;\">\n",
       "      <th></th>\n",
       "      <th>Unit price</th>\n",
       "      <th>Quantity</th>\n",
       "      <th>Tax 5%</th>\n",
       "      <th>Total</th>\n",
       "      <th>cogs</th>\n",
       "      <th>gross margin percentage</th>\n",
       "      <th>gross income</th>\n",
       "      <th>Rating</th>\n",
       "    </tr>\n",
       "  </thead>\n",
       "  <tbody>\n",
       "    <tr>\n",
       "      <th>count</th>\n",
       "      <td>1000.000000</td>\n",
       "      <td>1000.000000</td>\n",
       "      <td>1000.000000</td>\n",
       "      <td>1000.000000</td>\n",
       "      <td>1000.00000</td>\n",
       "      <td>1000.000000</td>\n",
       "      <td>1000.000000</td>\n",
       "      <td>1000.00000</td>\n",
       "    </tr>\n",
       "    <tr>\n",
       "      <th>mean</th>\n",
       "      <td>55.672130</td>\n",
       "      <td>5.510000</td>\n",
       "      <td>15.379369</td>\n",
       "      <td>322.966749</td>\n",
       "      <td>307.58738</td>\n",
       "      <td>4.761905</td>\n",
       "      <td>15.379369</td>\n",
       "      <td>6.97270</td>\n",
       "    </tr>\n",
       "    <tr>\n",
       "      <th>std</th>\n",
       "      <td>26.494628</td>\n",
       "      <td>2.923431</td>\n",
       "      <td>11.708825</td>\n",
       "      <td>245.885335</td>\n",
       "      <td>234.17651</td>\n",
       "      <td>0.000000</td>\n",
       "      <td>11.708825</td>\n",
       "      <td>1.71858</td>\n",
       "    </tr>\n",
       "    <tr>\n",
       "      <th>min</th>\n",
       "      <td>10.080000</td>\n",
       "      <td>1.000000</td>\n",
       "      <td>0.508500</td>\n",
       "      <td>10.678500</td>\n",
       "      <td>10.17000</td>\n",
       "      <td>4.761905</td>\n",
       "      <td>0.508500</td>\n",
       "      <td>4.00000</td>\n",
       "    </tr>\n",
       "    <tr>\n",
       "      <th>25%</th>\n",
       "      <td>32.875000</td>\n",
       "      <td>3.000000</td>\n",
       "      <td>5.924875</td>\n",
       "      <td>124.422375</td>\n",
       "      <td>118.49750</td>\n",
       "      <td>4.761905</td>\n",
       "      <td>5.924875</td>\n",
       "      <td>5.50000</td>\n",
       "    </tr>\n",
       "    <tr>\n",
       "      <th>50%</th>\n",
       "      <td>55.230000</td>\n",
       "      <td>5.000000</td>\n",
       "      <td>12.088000</td>\n",
       "      <td>253.848000</td>\n",
       "      <td>241.76000</td>\n",
       "      <td>4.761905</td>\n",
       "      <td>12.088000</td>\n",
       "      <td>7.00000</td>\n",
       "    </tr>\n",
       "    <tr>\n",
       "      <th>75%</th>\n",
       "      <td>77.935000</td>\n",
       "      <td>8.000000</td>\n",
       "      <td>22.445250</td>\n",
       "      <td>471.350250</td>\n",
       "      <td>448.90500</td>\n",
       "      <td>4.761905</td>\n",
       "      <td>22.445250</td>\n",
       "      <td>8.50000</td>\n",
       "    </tr>\n",
       "    <tr>\n",
       "      <th>max</th>\n",
       "      <td>99.960000</td>\n",
       "      <td>10.000000</td>\n",
       "      <td>49.650000</td>\n",
       "      <td>1042.650000</td>\n",
       "      <td>993.00000</td>\n",
       "      <td>4.761905</td>\n",
       "      <td>49.650000</td>\n",
       "      <td>10.00000</td>\n",
       "    </tr>\n",
       "  </tbody>\n",
       "</table>\n",
       "</div>"
      ],
      "text/plain": [
       "        Unit price     Quantity       Tax 5%        Total        cogs  \\\n",
       "count  1000.000000  1000.000000  1000.000000  1000.000000  1000.00000   \n",
       "mean     55.672130     5.510000    15.379369   322.966749   307.58738   \n",
       "std      26.494628     2.923431    11.708825   245.885335   234.17651   \n",
       "min      10.080000     1.000000     0.508500    10.678500    10.17000   \n",
       "25%      32.875000     3.000000     5.924875   124.422375   118.49750   \n",
       "50%      55.230000     5.000000    12.088000   253.848000   241.76000   \n",
       "75%      77.935000     8.000000    22.445250   471.350250   448.90500   \n",
       "max      99.960000    10.000000    49.650000  1042.650000   993.00000   \n",
       "\n",
       "       gross margin percentage  gross income      Rating  \n",
       "count              1000.000000   1000.000000  1000.00000  \n",
       "mean                  4.761905     15.379369     6.97270  \n",
       "std                   0.000000     11.708825     1.71858  \n",
       "min                   4.761905      0.508500     4.00000  \n",
       "25%                   4.761905      5.924875     5.50000  \n",
       "50%                   4.761905     12.088000     7.00000  \n",
       "75%                   4.761905     22.445250     8.50000  \n",
       "max                   4.761905     49.650000    10.00000  "
      ]
     },
     "execution_count": 95,
     "metadata": {},
     "output_type": "execute_result"
    }
   ],
   "source": [
    "df.describe()"
   ]
  },
  {
   "cell_type": "code",
   "execution_count": 96,
   "id": "f2a1b82a",
   "metadata": {},
   "outputs": [
    {
     "name": "stderr",
     "output_type": "stream",
     "text": [
      "C:\\Users\\HP-PC\\AppData\\Local\\Temp\\ipykernel_6432\\3914038272.py:2: FutureWarning: The default value of numeric_only in DataFrame.corr is deprecated. In a future version, it will default to False. Select only valid columns or specify the value of numeric_only to silence this warning.\n",
      "  corrMat=df.corr()\n"
     ]
    },
    {
     "data": {
      "image/png": "[encoded data removed]",
      "text/plain": [
       "<Figure size 864x504 with 2 Axes>"
      ]
     },
     "metadata": {
      "needs_background": "light"
     },
     "output_type": "display_data"
    }
   ],
   "source": [
    "plt.figure(figsize=(12,7))\n",
    "corrMat=df.corr()\n",
    "sns.heatmap(corrMat,annot=True)\n",
    "plt.show()"
   ]
  },
  {
   "cell_type": "markdown",
   "id": "0662d056",
   "metadata": {},
   "source": [
    "# Cities"
   ]
  },
  {
   "cell_type": "code",
   "execution_count": 97,
   "id": "ede8237f",
   "metadata": {},
   "outputs": [
    {
     "data": {
      "text/plain": [
       "array(['Yangon', 'Naypyitaw', 'Mandalay'], dtype=object)"
      ]
     },
     "execution_count": 97,
     "metadata": {},
     "output_type": "execute_result"
    }
   ],
   "source": [
    "df[\"City\"].unique()"
   ]
  },
  {
   "cell_type": "markdown",
   "id": "2fafd6c6",
   "metadata": {},
   "source": [
    "# Customer Count"
   ]
  },
  {
   "cell_type": "code",
   "execution_count": 98,
   "id": "3c240770",
   "metadata": {},
   "outputs": [
    {
     "data": {
      "text/plain": [
       "Yangon       340\n",
       "Mandalay     332\n",
       "Naypyitaw    328\n",
       "Name: City, dtype: int64"
      ]
     },
     "execution_count": 98,
     "metadata": {},
     "output_type": "execute_result"
    }
   ],
   "source": [
    "df[\"City\"].value_counts()"
   ]
  },
  {
   "cell_type": "code",
   "execution_count": 99,
   "id": "70b62540",
   "metadata": {},
   "outputs": [
    {
     "data": {
      "text/plain": [
       "Text(0.5, 1.0, 'Customer Count')"
      ]
     },
     "execution_count": 99,
     "metadata": {},
     "output_type": "execute_result"
    },
    {
     "data": {
      "image/png": "[encoded data removed]",
      "text/plain": [
       "<Figure size 504x360 with 1 Axes>"
      ]
     },
     "metadata": {
      "needs_background": "light"
     },
     "output_type": "display_data"
    }
   ],
   "source": [
    "plt.figure(figsize=(7,5))\n",
    "sns.countplot(x=\"City\", order=[\"Yangon\",\"Mandalay\",\"Naypyitaw\"],data=df).set_title(\"Customer Count\",fontsize=15)"
   ]
  },
  {
   "cell_type": "markdown",
   "id": "1ee61dad",
   "metadata": {},
   "source": [
    "Yangon area has more customer than other two cities and Mandalay is in second position."
   ]
  },
  {
   "cell_type": "markdown",
   "id": "3009b230",
   "metadata": {},
   "source": [
    "# Total Sales"
   ]
  },
  {
   "cell_type": "code",
   "execution_count": 100,
   "id": "63f57d46",
   "metadata": {},
   "outputs": [
    {
     "name": "stderr",
     "output_type": "stream",
     "text": [
      "C:\\Users\\HP-PC\\AppData\\Local\\Temp\\ipykernel_6432\\4126189436.py:1: FutureWarning: The default value of numeric_only in DataFrameGroupBy.sum is deprecated. In a future version, numeric_only will default to False. Either specify numeric_only or select only columns which should be valid for the function.\n",
      "  total_sales=df.groupby(\"City\").sum()\n"
     ]
    },
    {
     "data": {
      "text/plain": [
       "City\n",
       "Naypyitaw    110568.7065\n",
       "Yangon       106200.3705\n",
       "Mandalay     106197.6720\n",
       "Name: Total, dtype: float64"
      ]
     },
     "execution_count": 100,
     "metadata": {},
     "output_type": "execute_result"
    }
   ],
   "source": [
    "total_sales=df.groupby(\"City\").sum()\n",
    "total_sales[\"Total\"].sort_values(ascending=False)"
   ]
  },
  {
   "cell_type": "code",
   "execution_count": 101,
   "id": "28af2774",
   "metadata": {},
   "outputs": [
    {
     "data": {
      "text/plain": [
       "Text(0.5, 1.0, 'Total Sales of Different Cities')"
      ]
     },
     "execution_count": 101,
     "metadata": {},
     "output_type": "execute_result"
    },
    {
     "data": {
      "image/png": "[encoded data removed]",
      "text/plain": [
       "<Figure size 504x360 with 1 Axes>"
      ]
     },
     "metadata": {
      "needs_background": "light"
     },
     "output_type": "display_data"
    }
   ],
   "source": [
    "plt.figure(figsize=(7,5))\n",
    "sns.barplot(x=\"City\", y=\"Total\", data=df).set_title(\"Total Sales of Different Cities\", fontsize=15)"
   ]
  },
  {
   "cell_type": "markdown",
   "id": "82a304d9",
   "metadata": {},
   "source": [
    "Naypyitaw city's total sales is maximum, Yangon and Mandalay are in close position."
   ]
  },
  {
   "cell_type": "markdown",
   "id": "a19ba278",
   "metadata": {},
   "source": [
    "# Quantity Sales"
   ]
  },
  {
   "cell_type": "code",
   "execution_count": 102,
   "id": "73395a41",
   "metadata": {},
   "outputs": [
    {
     "name": "stderr",
     "output_type": "stream",
     "text": [
      "C:\\Users\\HP-PC\\AppData\\Local\\Temp\\ipykernel_6432\\882838820.py:1: FutureWarning: The default value of numeric_only in DataFrameGroupBy.sum is deprecated. In a future version, numeric_only will default to False. Either specify numeric_only or select only columns which should be valid for the function.\n",
      "  total_quantity=df.groupby(\"City\").sum()\n"
     ]
    },
    {
     "data": {
      "text/plain": [
       "City\n",
       "Yangon       1859\n",
       "Naypyitaw    1831\n",
       "Mandalay     1820\n",
       "Name: Quantity, dtype: int64"
      ]
     },
     "execution_count": 102,
     "metadata": {},
     "output_type": "execute_result"
    }
   ],
   "source": [
    "total_quantity=df.groupby(\"City\").sum()\n",
    "total_quantity[\"Quantity\"].sort_values(ascending=False)"
   ]
  },
  {
   "cell_type": "code",
   "execution_count": 103,
   "id": "777002a0",
   "metadata": {},
   "outputs": [
    {
     "data": {
      "text/plain": [
       "Text(0.5, 1.0, 'All Cities Quantity Sales')"
      ]
     },
     "execution_count": 103,
     "metadata": {},
     "output_type": "execute_result"
    },
    {
     "data": {
      "image/png": "[encoded data removed]",
      "text/plain": [
       "<Figure size 504x360 with 1 Axes>"
      ]
     },
     "metadata": {
      "needs_background": "light"
     },
     "output_type": "display_data"
    }
   ],
   "source": [
    "plt.figure(figsize=(7,5))\n",
    "sns.barplot(x=\"City\", y=\"Quantity\", data=df, order=[\"Yangon\", \"Naypyitaw\",\"Mandalay\"]).set_title(\"All Cities Quantity Sales\", fontsize=15)"
   ]
  },
  {
   "cell_type": "markdown",
   "id": "f1a2e329",
   "metadata": {},
   "source": [
    "Yangon sales maximum number of quantity and Naypytaw is in second position."
   ]
  },
  {
   "cell_type": "markdown",
   "id": "b60dcbc0",
   "metadata": {},
   "source": [
    "# Customer Type"
   ]
  },
  {
   "cell_type": "code",
   "execution_count": 104,
   "id": "ae54fdf2",
   "metadata": {},
   "outputs": [
    {
     "data": {
      "text/plain": [
       "array(['Member', 'Normal'], dtype=object)"
      ]
     },
     "execution_count": 104,
     "metadata": {},
     "output_type": "execute_result"
    }
   ],
   "source": [
    "df[\"Customer type\"].unique()"
   ]
  },
  {
   "cell_type": "code",
   "execution_count": 105,
   "id": "b7dd2feb",
   "metadata": {},
   "outputs": [
    {
     "data": {
      "text/plain": [
       "Customer type\n",
       "Member    501\n",
       "Normal    499\n",
       "dtype: int64"
      ]
     },
     "execution_count": 105,
     "metadata": {},
     "output_type": "execute_result"
    }
   ],
   "source": [
    "df.groupby(\"Customer type\").size()"
   ]
  },
  {
   "cell_type": "code",
   "execution_count": 106,
   "id": "f10dbd3d",
   "metadata": {},
   "outputs": [
    {
     "data": {
      "text/plain": [
       "Text(0.5, 1.0, 'Customer Type')"
      ]
     },
     "execution_count": 106,
     "metadata": {},
     "output_type": "execute_result"
    },
    {
     "data": {
      "image/png": "[encoded data removed]",
      "text/plain": [
       "<Figure size 432x288 with 1 Axes>"
      ]
     },
     "metadata": {
      "needs_background": "light"
     },
     "output_type": "display_data"
    }
   ],
   "source": [
    "sns.countplot(x=\"Customer type\", data=df,).set_title(\"Customer Type\", fontsize=20)"
   ]
  },
  {
   "cell_type": "markdown",
   "id": "a6c2c015",
   "metadata": {},
   "source": [
    "Member type of customer comes a little more than normal customer."
   ]
  },
  {
   "cell_type": "markdown",
   "id": "73bf356f",
   "metadata": {},
   "source": [
    "# Gender of Customer"
   ]
  },
  {
   "cell_type": "code",
   "execution_count": 107,
   "id": "fd841cc7",
   "metadata": {},
   "outputs": [
    {
     "data": {
      "text/plain": [
       "Gender\n",
       "Female    501\n",
       "Male      499\n",
       "dtype: int64"
      ]
     },
     "execution_count": 107,
     "metadata": {},
     "output_type": "execute_result"
    }
   ],
   "source": [
    "df.groupby(\"Gender\").size()"
   ]
  },
  {
   "cell_type": "code",
   "execution_count": 108,
   "id": "a943e76d",
   "metadata": {},
   "outputs": [
    {
     "data": {
      "text/plain": [
       "Text(0.5, 1.0, 'Gender of Customer')"
      ]
     },
     "execution_count": 108,
     "metadata": {},
     "output_type": "execute_result"
    },
    {
     "data": {
      "image/png": "[encoded data removed]",
      "text/plain": [
       "<Figure size 432x288 with 1 Axes>"
      ]
     },
     "metadata": {
      "needs_background": "light"
     },
     "output_type": "display_data"
    }
   ],
   "source": [
    "sns.countplot(x=\"Gender\", data=df, order=[\"Male\", \"Female\"]).set_title(\"Gender of Customer\", fontsize=20)\n",
    "#plt.show()"
   ]
  },
  {
   "cell_type": "markdown",
   "id": "37a454e8",
   "metadata": {},
   "source": [
    "Female Customer is (a little) more than male customer."
   ]
  },
  {
   "cell_type": "markdown",
   "id": "4a59c9c8",
   "metadata": {},
   "source": [
    "# Payment Method"
   ]
  },
  {
   "cell_type": "code",
   "execution_count": 109,
   "id": "752102b4",
   "metadata": {},
   "outputs": [
    {
     "data": {
      "text/plain": [
       "array(['Ewallet', 'Cash', 'Credit card'], dtype=object)"
      ]
     },
     "execution_count": 109,
     "metadata": {},
     "output_type": "execute_result"
    }
   ],
   "source": [
    "df[\"Payment\"].unique()"
   ]
  },
  {
   "cell_type": "code",
   "execution_count": 110,
   "id": "9cdeda04",
   "metadata": {},
   "outputs": [
    {
     "data": {
      "text/plain": [
       "Payment\n",
       "Cash           344\n",
       "Credit card    311\n",
       "Ewallet        345\n",
       "dtype: int64"
      ]
     },
     "execution_count": 110,
     "metadata": {},
     "output_type": "execute_result"
    }
   ],
   "source": [
    "df.groupby(\"Payment\").size()"
   ]
  },
  {
   "cell_type": "code",
   "execution_count": 111,
   "id": "28b8b5cd",
   "metadata": {},
   "outputs": [
    {
     "data": {
      "text/plain": [
       "Text(0.5, 1.0, 'Payment Method')"
      ]
     },
     "execution_count": 111,
     "metadata": {},
     "output_type": "execute_result"
    },
    {
     "data": {
      "image/png": "[encoded data removed]",
      "text/plain": [
       "<Figure size 504x360 with 1 Axes>"
      ]
     },
     "metadata": {
      "needs_background": "light"
     },
     "output_type": "display_data"
    }
   ],
   "source": [
    "plt.figure(figsize=(7,5))\n",
    "plt.xlabel(\"Payment\", fontsize=13)\n",
    "plt.ylabel(\"Count\", fontsize=13)\n",
    "sns.countplot(x=\"Payment\", data=df, palette=\"dark\").set_title(\"Payment Method\",fontsize=20)"
   ]
  },
  {
   "cell_type": "markdown",
   "id": "b18543ab",
   "metadata": {},
   "source": [
    "Most customers paying through Ewallet, then cash and rest of all are paying through credit card."
   ]
  },
  {
   "cell_type": "markdown",
   "id": "a8d1f467",
   "metadata": {},
   "source": [
    "# Each Product Line"
   ]
  },
  {
   "cell_type": "code",
   "execution_count": 112,
   "id": "344f4f59",
   "metadata": {},
   "outputs": [
    {
     "data": {
      "text/plain": [
       "array(['Health and beauty', 'Electronic accessories',\n",
       "       'Home and lifestyle', 'Sports and travel', 'Food and beverages',\n",
       "       'Fashion accessories'], dtype=object)"
      ]
     },
     "execution_count": 112,
     "metadata": {},
     "output_type": "execute_result"
    }
   ],
   "source": [
    "df[\"Product line\"].unique()"
   ]
  },
  {
   "cell_type": "markdown",
   "id": "e63fe607",
   "metadata": {},
   "source": [
    "# Total Sell"
   ]
  },
  {
   "cell_type": "code",
   "execution_count": 113,
   "id": "c6d565cc",
   "metadata": {},
   "outputs": [
    {
     "name": "stderr",
     "output_type": "stream",
     "text": [
      "C:\\Users\\HP-PC\\AppData\\Local\\Temp\\ipykernel_6432\\2982859528.py:1: FutureWarning: The default value of numeric_only in DataFrameGroupBy.sum is deprecated. In a future version, numeric_only will default to False. Either specify numeric_only or select only columns which should be valid for the function.\n",
      "  product=df.groupby(\"Product line\").sum()\n"
     ]
    },
    {
     "data": {
      "text/plain": [
       "Product line\n",
       "Food and beverages        56144.8440\n",
       "Sports and travel         55122.8265\n",
       "Electronic accessories    54337.5315\n",
       "Fashion accessories       54305.8950\n",
       "Home and lifestyle        53861.9130\n",
       "Health and beauty         49193.7390\n",
       "Name: Total, dtype: float64"
      ]
     },
     "execution_count": 113,
     "metadata": {},
     "output_type": "execute_result"
    }
   ],
   "source": [
    "product=df.groupby(\"Product line\").sum()\n",
    "product[\"Total\"].sort_values(ascending=False)"
   ]
  },
  {
   "cell_type": "code",
   "execution_count": 114,
   "id": "0c0d4cde",
   "metadata": {},
   "outputs": [
    {
     "data": {
      "text/plain": [
       "Text(0.5, 1.0, 'Total Product Sell')"
      ]
     },
     "execution_count": 114,
     "metadata": {},
     "output_type": "execute_result"
    },
    {
     "data": {
      "image/png": "[encoded data removed]",
      "text/plain": [
       "<Figure size 504x360 with 1 Axes>"
      ]
     },
     "metadata": {
      "needs_background": "light"
     },
     "output_type": "display_data"
    }
   ],
   "source": [
    "plt.figure(figsize=(7,5))\n",
    "plt.xlabel(\"Total\",fontsize=15)\n",
    "plt.ylabel(\"Product line\",fontsize=15)\n",
    "sns.barplot(x=\"Total\",y=\"Product line\", data=df,palette=\"dark\",estimator=sum).set_title(\"Total Product Sell\", fontsize=20)"
   ]
  },
  {
   "cell_type": "markdown",
   "id": "a645baf9",
   "metadata": {},
   "source": [
    "'Food and Beverage' product sell is maximum and 'Health and beauty' product sell is minimum."
   ]
  },
  {
   "cell_type": "markdown",
   "id": "29fd28f5",
   "metadata": {},
   "source": [
    "# Amount of Selling Quantity"
   ]
  },
  {
   "cell_type": "code",
   "execution_count": 115,
   "id": "08ce42cd",
   "metadata": {},
   "outputs": [
    {
     "data": {
      "text/plain": [
       "Product line\n",
       "Electronic accessories    971\n",
       "Food and beverages        952\n",
       "Sports and travel         920\n",
       "Home and lifestyle        911\n",
       "Fashion accessories       902\n",
       "Health and beauty         854\n",
       "Name: Quantity, dtype: int64"
      ]
     },
     "execution_count": 115,
     "metadata": {},
     "output_type": "execute_result"
    }
   ],
   "source": [
    "product[\"Quantity\"].sort_values(ascending=False)"
   ]
  },
  {
   "cell_type": "code",
   "execution_count": 116,
   "id": "2c541535",
   "metadata": {},
   "outputs": [
    {
     "data": {
      "text/plain": [
       "Text(0.5, 1.0, 'Amount of Selling Quantity')"
      ]
     },
     "execution_count": 116,
     "metadata": {},
     "output_type": "execute_result"
    },
    {
     "data": {
      "image/png": "[encoded data removed]",
      "text/plain": [
       "<Figure size 504x360 with 1 Axes>"
      ]
     },
     "metadata": {
      "needs_background": "light"
     },
     "output_type": "display_data"
    }
   ],
   "source": [
    "plt.figure(figsize=(7,5))\n",
    "plt.xlabel(\"Total\",fontsize=13)\n",
    "plt.ylabel(\"Product line\",fontsize=13)\n",
    "sns.barplot(x=\"Quantity\",y=\"Product line\", data=df, palette=\"dark\", estimator=sum).set_title(\"Amount of Selling Quantity\", fontsize=20)"
   ]
  },
  {
   "cell_type": "markdown",
   "id": "af1a4de7",
   "metadata": {},
   "source": [
    "Selling of 'Electronic accessories' product is most and 'Health and beauty' product sell is minimum."
   ]
  },
  {
   "cell_type": "markdown",
   "id": "c9d947bc",
   "metadata": {},
   "source": [
    "# Gross Income"
   ]
  },
  {
   "cell_type": "code",
   "execution_count": 117,
   "id": "57fba686",
   "metadata": {},
   "outputs": [
    {
     "data": {
      "text/plain": [
       "Product line\n",
       "Food and beverages        2673.5640\n",
       "Sports and travel         2624.8965\n",
       "Electronic accessories    2587.5015\n",
       "Fashion accessories       2585.9950\n",
       "Home and lifestyle        2564.8530\n",
       "Health and beauty         2342.5590\n",
       "Name: gross income, dtype: float64"
      ]
     },
     "execution_count": 117,
     "metadata": {},
     "output_type": "execute_result"
    }
   ],
   "source": [
    "product[\"gross income\"].sort_values(ascending=False)"
   ]
  },
  {
   "cell_type": "markdown",
   "id": "d782cfda",
   "metadata": {},
   "source": [
    "Gross income from 'Electronic accessories' is most."
   ]
  },
  {
   "cell_type": "code",
   "execution_count": 118,
   "id": "c45add72",
   "metadata": {},
   "outputs": [
    {
     "data": {
      "text/plain": [
       "array([4.76190476])"
      ]
     },
     "execution_count": 118,
     "metadata": {},
     "output_type": "execute_result"
    }
   ],
   "source": [
    "df[\"gross margin percentage\"].unique()"
   ]
  },
  {
   "cell_type": "markdown",
   "id": "cdbe8841",
   "metadata": {},
   "source": [
    "Gross margin percentage is fixed for every product line."
   ]
  },
  {
   "cell_type": "markdown",
   "id": "e8a2797a",
   "metadata": {},
   "source": [
    "# Peak Hour - Off Peak Hour"
   ]
  },
  {
   "cell_type": "code",
   "execution_count": 119,
   "id": "c96e0c37",
   "metadata": {},
   "outputs": [],
   "source": [
    "df[\"Hour\"]=df[\"Time\"].str[0:2]"
   ]
  },
  {
   "cell_type": "code",
   "execution_count": 120,
   "id": "4d6a6a20",
   "metadata": {},
   "outputs": [
    {
     "data": {
      "text/html": [
       "<div>\n",
       "<style scoped>\n",
       "    .dataframe tbody tr th:only-of-type {\n",
       "        vertical-align: middle;\n",
       "    }\n",
       "\n",
       "    .dataframe tbody tr th {\n",
       "        vertical-align: top;\n",
       "    }\n",
       "\n",
       "    .dataframe thead th {\n",
       "        text-align: right;\n",
       "    }\n",
       "</style>\n",
       "<table border=\"1\" class=\"dataframe\">\n",
       "  <thead>\n",
       "    <tr style=\"text-align: right;\">\n",
       "      <th></th>\n",
       "      <th>Invoice ID</th>\n",
       "      <th>Branch</th>\n",
       "      <th>City</th>\n",
       "      <th>Customer type</th>\n",
       "      <th>Gender</th>\n",
       "      <th>Product line</th>\n",
       "      <th>Unit price</th>\n",
       "      <th>Quantity</th>\n",
       "      <th>Tax 5%</th>\n",
       "      <th>Total</th>\n",
       "      <th>Date</th>\n",
       "      <th>Time</th>\n",
       "      <th>Payment</th>\n",
       "      <th>cogs</th>\n",
       "      <th>gross margin percentage</th>\n",
       "      <th>gross income</th>\n",
       "      <th>Rating</th>\n",
       "      <th>Hour</th>\n",
       "    </tr>\n",
       "  </thead>\n",
       "  <tbody>\n",
       "    <tr>\n",
       "      <th>0</th>\n",
       "      <td>750-67-8428</td>\n",
       "      <td>A</td>\n",
       "      <td>Yangon</td>\n",
       "      <td>Member</td>\n",
       "      <td>Female</td>\n",
       "      <td>Health and beauty</td>\n",
       "      <td>74.69</td>\n",
       "      <td>7</td>\n",
       "      <td>26.1415</td>\n",
       "      <td>548.9715</td>\n",
       "      <td>1/5/2019</td>\n",
       "      <td>13:08</td>\n",
       "      <td>Ewallet</td>\n",
       "      <td>522.83</td>\n",
       "      <td>4.761905</td>\n",
       "      <td>26.1415</td>\n",
       "      <td>9.1</td>\n",
       "      <td>13</td>\n",
       "    </tr>\n",
       "    <tr>\n",
       "      <th>1</th>\n",
       "      <td>226-31-3081</td>\n",
       "      <td>C</td>\n",
       "      <td>Naypyitaw</td>\n",
       "      <td>Normal</td>\n",
       "      <td>Female</td>\n",
       "      <td>Electronic accessories</td>\n",
       "      <td>15.28</td>\n",
       "      <td>5</td>\n",
       "      <td>3.8200</td>\n",
       "      <td>80.2200</td>\n",
       "      <td>3/8/2019</td>\n",
       "      <td>10:29</td>\n",
       "      <td>Cash</td>\n",
       "      <td>76.40</td>\n",
       "      <td>4.761905</td>\n",
       "      <td>3.8200</td>\n",
       "      <td>9.6</td>\n",
       "      <td>10</td>\n",
       "    </tr>\n",
       "    <tr>\n",
       "      <th>2</th>\n",
       "      <td>631-41-3108</td>\n",
       "      <td>A</td>\n",
       "      <td>Yangon</td>\n",
       "      <td>Normal</td>\n",
       "      <td>Male</td>\n",
       "      <td>Home and lifestyle</td>\n",
       "      <td>46.33</td>\n",
       "      <td>7</td>\n",
       "      <td>16.2155</td>\n",
       "      <td>340.5255</td>\n",
       "      <td>3/3/2019</td>\n",
       "      <td>13:23</td>\n",
       "      <td>Credit card</td>\n",
       "      <td>324.31</td>\n",
       "      <td>4.761905</td>\n",
       "      <td>16.2155</td>\n",
       "      <td>7.4</td>\n",
       "      <td>13</td>\n",
       "    </tr>\n",
       "    <tr>\n",
       "      <th>3</th>\n",
       "      <td>123-19-1176</td>\n",
       "      <td>A</td>\n",
       "      <td>Yangon</td>\n",
       "      <td>Member</td>\n",
       "      <td>Male</td>\n",
       "      <td>Health and beauty</td>\n",
       "      <td>58.22</td>\n",
       "      <td>8</td>\n",
       "      <td>23.2880</td>\n",
       "      <td>489.0480</td>\n",
       "      <td>1/27/2019</td>\n",
       "      <td>20:33</td>\n",
       "      <td>Ewallet</td>\n",
       "      <td>465.76</td>\n",
       "      <td>4.761905</td>\n",
       "      <td>23.2880</td>\n",
       "      <td>8.4</td>\n",
       "      <td>20</td>\n",
       "    </tr>\n",
       "    <tr>\n",
       "      <th>4</th>\n",
       "      <td>373-73-7910</td>\n",
       "      <td>A</td>\n",
       "      <td>Yangon</td>\n",
       "      <td>Normal</td>\n",
       "      <td>Male</td>\n",
       "      <td>Sports and travel</td>\n",
       "      <td>86.31</td>\n",
       "      <td>7</td>\n",
       "      <td>30.2085</td>\n",
       "      <td>634.3785</td>\n",
       "      <td>2/8/2019</td>\n",
       "      <td>10:37</td>\n",
       "      <td>Ewallet</td>\n",
       "      <td>604.17</td>\n",
       "      <td>4.761905</td>\n",
       "      <td>30.2085</td>\n",
       "      <td>5.3</td>\n",
       "      <td>10</td>\n",
       "    </tr>\n",
       "  </tbody>\n",
       "</table>\n",
       "</div>"
      ],
      "text/plain": [
       "    Invoice ID Branch       City Customer type  Gender  \\\n",
       "0  750-67-8428      A     Yangon        Member  Female   \n",
       "1  226-31-3081      C  Naypyitaw        Normal  Female   \n",
       "2  631-41-3108      A     Yangon        Normal    Male   \n",
       "3  123-19-1176      A     Yangon        Member    Male   \n",
       "4  373-73-7910      A     Yangon        Normal    Male   \n",
       "\n",
       "             Product line  Unit price  Quantity   Tax 5%     Total       Date  \\\n",
       "0       Health and beauty       74.69         7  26.1415  548.9715   1/5/2019   \n",
       "1  Electronic accessories       15.28         5   3.8200   80.2200   3/8/2019   \n",
       "2      Home and lifestyle       46.33         7  16.2155  340.5255   3/3/2019   \n",
       "3       Health and beauty       58.22         8  23.2880  489.0480  1/27/2019   \n",
       "4       Sports and travel       86.31         7  30.2085  634.3785   2/8/2019   \n",
       "\n",
       "    Time      Payment    cogs  gross margin percentage  gross income  Rating  \\\n",
       "0  13:08      Ewallet  522.83                 4.761905       26.1415     9.1   \n",
       "1  10:29         Cash   76.40                 4.761905        3.8200     9.6   \n",
       "2  13:23  Credit card  324.31                 4.761905       16.2155     7.4   \n",
       "3  20:33      Ewallet  465.76                 4.761905       23.2880     8.4   \n",
       "4  10:37      Ewallet  604.17                 4.761905       30.2085     5.3   \n",
       "\n",
       "  Hour  \n",
       "0   13  \n",
       "1   10  \n",
       "2   13  \n",
       "3   20  \n",
       "4   10  "
      ]
     },
     "execution_count": 120,
     "metadata": {},
     "output_type": "execute_result"
    }
   ],
   "source": [
    "df.head()"
   ]
  },
  {
   "cell_type": "code",
   "execution_count": 121,
   "id": "0bba544f",
   "metadata": {},
   "outputs": [
    {
     "data": {
      "text/plain": [
       "array(['13', '10', '20', '18', '14', '11', '17', '16', '19', '15', '12'],\n",
       "      dtype=object)"
      ]
     },
     "execution_count": 121,
     "metadata": {},
     "output_type": "execute_result"
    }
   ],
   "source": [
    "df[\"Hour\"].unique()"
   ]
  },
  {
   "cell_type": "code",
   "execution_count": 122,
   "id": "80dc7faf",
   "metadata": {},
   "outputs": [
    {
     "data": {
      "text/plain": [
       "dtype('O')"
      ]
     },
     "execution_count": 122,
     "metadata": {},
     "output_type": "execute_result"
    }
   ],
   "source": [
    "df[\"Hour\"].dtype"
   ]
  },
  {
   "cell_type": "code",
   "execution_count": 123,
   "id": "c0666c91",
   "metadata": {},
   "outputs": [
    {
     "data": {
      "text/plain": [
       "dtype('int64')"
      ]
     },
     "execution_count": 123,
     "metadata": {},
     "output_type": "execute_result"
    }
   ],
   "source": [
    "df[\"Hour\"]=pd.to_numeric(df[\"Hour\"])\n",
    "df[\"Hour\"].dtype"
   ]
  },
  {
   "cell_type": "code",
   "execution_count": 124,
   "id": "ac9fddb3",
   "metadata": {},
   "outputs": [
    {
     "name": "stderr",
     "output_type": "stream",
     "text": [
      "C:\\Users\\HP-PC\\AppData\\Local\\Temp\\ipykernel_6432\\1998044594.py:1: FutureWarning: The default value of numeric_only in DataFrameGroupBy.sum is deprecated. In a future version, numeric_only will default to False. Either specify numeric_only or select only columns which should be valid for the function.\n",
      "  hours=df.groupby(\"Hour\").sum()\n"
     ]
    },
    {
     "data": {
      "text/plain": [
       "Hour\n",
       "10    31421.4810\n",
       "11    30377.3295\n",
       "12    26065.8825\n",
       "13    34723.2270\n",
       "14    30828.3990\n",
       "15    31179.5085\n",
       "16    25226.3235\n",
       "17    24445.2180\n",
       "18    26030.3400\n",
       "19    39699.5130\n",
       "20    22969.5270\n",
       "Name: Total, dtype: float64"
      ]
     },
     "execution_count": 124,
     "metadata": {},
     "output_type": "execute_result"
    }
   ],
   "source": [
    "hours=df.groupby(\"Hour\").sum()\n",
    "hours[\"Total\"]"
   ]
  },
  {
   "cell_type": "code",
   "execution_count": 125,
   "id": "3cdbd2d2",
   "metadata": {},
   "outputs": [
    {
     "data": {
      "image/png": "[encoded data removed]",
      "text/plain": [
       "<Figure size 504x360 with 1 Axes>"
      ]
     },
     "metadata": {
      "needs_background": "light"
     },
     "output_type": "display_data"
    }
   ],
   "source": [
    "Hour=range(10,21)\n",
    "\n",
    "x=Hour\n",
    "y=hours[\"Total\"]\n",
    "plt.figure(figsize=(7,5))\n",
    "plt.title(\"Sales with Time\", fontsize=20,fontdict={\"weight\":\"bold\"})\n",
    "plt.plot(x,y,color=\"b\",marker=\"o\",mfc=\"r\")\n",
    "#sns.set_style(\"whiitegrid\")\n",
    "plt.xticks(Hour) #ticks\n",
    "plt.xlabel(\"Hour\",fontsize=13)\n",
    "plt.ylabel(\"Price USD\",fontsize=13)\n",
    "plt.grid(True)\n",
    "plt.show()"
   ]
  },
  {
   "cell_type": "markdown",
   "id": "0a405e41",
   "metadata": {},
   "source": [
    "Graph shows sales rate increases at 7 pm.\n",
    "Adv. 01. Advertisement\n",
    "     02. Appoin(t) more employee"
   ]
  },
  {
   "cell_type": "markdown",
   "id": "a934bb0f",
   "metadata": {},
   "source": [
    "# Rating"
   ]
  },
  {
   "cell_type": "code",
   "execution_count": 126,
   "id": "0ffa6ff3",
   "metadata": {},
   "outputs": [
    {
     "data": {
      "text/plain": [
       "array([ 9.1,  9.6,  7.4,  8.4,  5.3,  4.1,  5.8,  8. ,  7.2,  5.9,  4.5,\n",
       "        6.8,  7.1,  8.2,  5.7,  4.6,  6.9,  8.6,  4.4,  4.8,  5.1,  9.9,\n",
       "        6. ,  8.5,  6.7,  7.7,  7.5,  7. ,  4.7,  7.6,  7.9,  6.3,  5.6,\n",
       "        9.5,  8.1,  6.5,  6.1,  6.6,  5.4,  9.3, 10. ,  6.4,  4.3,  4. ,\n",
       "        8.7,  9.4,  5.5,  8.3,  7.3,  4.9,  4.2,  9.2,  7.8,  5.2,  9. ,\n",
       "        8.8,  6.2,  9.8,  9.7,  5. ,  8.9])"
      ]
     },
     "execution_count": 126,
     "metadata": {},
     "output_type": "execute_result"
    }
   ],
   "source": [
    "df[\"Rating\"].unique()"
   ]
  },
  {
   "cell_type": "code",
   "execution_count": 127,
   "id": "2015b7d6",
   "metadata": {},
   "outputs": [
    {
     "data": {
      "text/plain": [
       "Text(0.5, 1.0, 'Rating Count')"
      ]
     },
     "execution_count": 127,
     "metadata": {},
     "output_type": "execute_result"
    },
    {
     "data": {
      "image/png": "[encoded data removed]",
      "text/plain": [
       "<Figure size 2160x1440 with 1 Axes>"
      ]
     },
     "metadata": {
      "needs_background": "light"
     },
     "output_type": "display_data"
    }
   ],
   "source": [
    "plt.figure(figsize=(30,20))\n",
    "plt.xlabel(\"Rating\",fontsize=20)\n",
    "plt.ylabel(\"Count\",fontsize=20)\n",
    "sns.countplot(x=df[\"Rating\"],data=df).set_title(\"Rating Count\", fontsize=35)"
   ]
  },
  {
   "cell_type": "code",
   "execution_count": 128,
   "id": "45ca507e",
   "metadata": {},
   "outputs": [
    {
     "data": {
      "text/plain": [
       "dtype('int32')"
      ]
     },
     "execution_count": 128,
     "metadata": {},
     "output_type": "execute_result"
    }
   ],
   "source": [
    "# converting Rating from float to int.\n",
    "#seo.hour conversion\n",
    "df[\"Rating\"]=df[\"Rating\"].astype(\"int\")\n",
    "df[\"Rating\"].dtype"
   ]
  },
  {
   "cell_type": "code",
   "execution_count": 129,
   "id": "1d700bcf",
   "metadata": {},
   "outputs": [
    {
     "data": {
      "text/plain": [
       "array([ 9,  7,  8,  5,  4,  6, 10])"
      ]
     },
     "execution_count": 129,
     "metadata": {},
     "output_type": "execute_result"
    }
   ],
   "source": [
    "df[\"Rating\"].unique()"
   ]
  },
  {
   "cell_type": "code",
   "execution_count": 130,
   "id": "c8dfba54",
   "metadata": {},
   "outputs": [
    {
     "data": {
      "text/plain": [
       "6     184\n",
       "7     172\n",
       "8     163\n",
       "5     162\n",
       "9     161\n",
       "4     153\n",
       "10      5\n",
       "Name: Rating, dtype: int64"
      ]
     },
     "execution_count": 130,
     "metadata": {},
     "output_type": "execute_result"
    }
   ],
   "source": [
    "df[\"Rating\"].value_counts()"
   ]
  },
  {
   "cell_type": "code",
   "execution_count": 131,
   "id": "162f6dbb",
   "metadata": {},
   "outputs": [
    {
     "data": {
      "text/plain": [
       "Text(0.5, 1.0, 'Rating Count')"
      ]
     },
     "execution_count": 131,
     "metadata": {},
     "output_type": "execute_result"
    },
    {
     "data": {
      "image/png": "[encoded data removed]",
      "text/plain": [
       "<Figure size 864x504 with 1 Axes>"
      ]
     },
     "metadata": {
      "needs_background": "light"
     },
     "output_type": "display_data"
    }
   ],
   "source": [
    "plt.figure(figsize=(12,7))\n",
    "plt.xlabel(\"Rating\",fontsize=15)\n",
    "plt.ylabel(\"Count\",fontsize=15)\n",
    "sns.countplot(x=df[\"Rating\"],data=df).set_title(\"Rating Count\")"
   ]
  },
  {
   "cell_type": "markdown",
   "id": "2d4a755e",
   "metadata": {},
   "source": [
    "# Rating on each product line"
   ]
  },
  {
   "cell_type": "code",
   "execution_count": 132,
   "id": "d45d5723",
   "metadata": {
    "scrolled": true
   },
   "outputs": [
    {
     "data": {
      "text/plain": [
       "Product line\n",
       "Food and beverages        7.0\n",
       "Health and beauty         7.0\n",
       "Home and lifestyle        7.0\n",
       "Fashion accessories       6.5\n",
       "Electronic accessories    6.0\n",
       "Sports and travel         6.0\n",
       "Name: Rating, dtype: float64"
      ]
     },
     "execution_count": 132,
     "metadata": {},
     "output_type": "execute_result"
    }
   ],
   "source": [
    "df[\"Rating\"].groupby(df[\"Product line\"]).median().sort_values(ascending=False)"
   ]
  },
  {
   "cell_type": "code",
   "execution_count": 133,
   "id": "9552ecd5",
   "metadata": {},
   "outputs": [
    {
     "data": {
      "text/plain": [
       "Text(0.5, 1.0, 'Product line rating')"
      ]
     },
     "execution_count": 133,
     "metadata": {},
     "output_type": "execute_result"
    },
    {
     "data": {
      "image/png": "[encoded data removed]",
      "text/plain": [
       "<Figure size 864x504 with 1 Axes>"
      ]
     },
     "metadata": {
      "needs_background": "light"
     },
     "output_type": "display_data"
    }
   ],
   "source": [
    "plt.figure(figsize=(12,7))\n",
    "plt.xlabel(\"Rating\",fontsize=15)\n",
    "plt.ylabel(\"Product line\",fontsize=15)\n",
    "sns.barplot(x=\"Rating\",y=\"Product line\",data=df,palette=\"dark\").set_title(\"Product line rating\", fontsize=25)"
   ]
  },
  {
   "cell_type": "markdown",
   "id": "a359ad8f",
   "metadata": {},
   "source": [
    "# Analyze Each Branch"
   ]
  },
  {
   "cell_type": "code",
   "execution_count": 134,
   "id": "d6a3ce0a",
   "metadata": {},
   "outputs": [],
   "source": [
    "gb=df.groupby(\"City\")\n",
    "yangon_df=gb.get_group(\"Yangon\")\n",
    "Naypyitaw_df=gb.get_group(\"Naypyitaw\")\n",
    "Mandalay_df=gb.get_group(\"Mandalay\")"
   ]
  },
  {
   "cell_type": "markdown",
   "id": "9fed761a",
   "metadata": {},
   "source": [
    "# Yangon"
   ]
  },
  {
   "cell_type": "code",
   "execution_count": 135,
   "id": "d679fc39",
   "metadata": {},
   "outputs": [
    {
     "data": {
      "text/plain": [
       "Customer type\n",
       "Member    167\n",
       "Normal    173\n",
       "dtype: int64"
      ]
     },
     "execution_count": 135,
     "metadata": {},
     "output_type": "execute_result"
    }
   ],
   "source": [
    "yangon_df.groupby(\"Customer type\").size()"
   ]
  },
  {
   "cell_type": "code",
   "execution_count": 136,
   "id": "61fa931a",
   "metadata": {},
   "outputs": [
    {
     "data": {
      "text/plain": [
       "Text(0.5, 1.0, 'Yangon City Customer Type')"
      ]
     },
     "execution_count": 136,
     "metadata": {},
     "output_type": "execute_result"
    },
    {
     "data": {
      "image/png": "[encoded data removed]",
      "text/plain": [
       "<Figure size 432x288 with 1 Axes>"
      ]
     },
     "metadata": {
      "needs_background": "light"
     },
     "output_type": "display_data"
    }
   ],
   "source": [
    "sns.countplot(x=\"Customer type\", data=yangon_df, palette=\"dark\",order=[\"Member\",\"Normal\"]).set_title(\"Yangon City Customer Type\", fontsize=25)"
   ]
  },
  {
   "cell_type": "markdown",
   "id": "51531619",
   "metadata": {},
   "source": [
    "Normal customer are more than member type customer in Yangon city.\n",
    "Adv: Give some advantage to normal customers."
   ]
  },
  {
   "cell_type": "code",
   "execution_count": 137,
   "id": "c421bc87",
   "metadata": {},
   "outputs": [
    {
     "data": {
      "text/plain": [
       "Customer type  Gender\n",
       "Member         Female    80\n",
       "               Male      87\n",
       "Normal         Female    81\n",
       "               Male      92\n",
       "dtype: int64"
      ]
     },
     "execution_count": 137,
     "metadata": {},
     "output_type": "execute_result"
    }
   ],
   "source": [
    "yangon_df.groupby([\"Customer type\", \"Gender\"]).size()"
   ]
  },
  {
   "cell_type": "code",
   "execution_count": 138,
   "id": "d5cf0109",
   "metadata": {
    "scrolled": true
   },
   "outputs": [
    {
     "data": {
      "text/plain": [
       "Text(0.5, 1.0, 'Customer type classification with gender')"
      ]
     },
     "execution_count": 138,
     "metadata": {},
     "output_type": "execute_result"
    },
    {
     "data": {
      "image/png": "[encoded data removed]",
      "text/plain": [
       "<Figure size 720x504 with 1 Axes>"
      ]
     },
     "metadata": {
      "needs_background": "light"
     },
     "output_type": "display_data"
    }
   ],
   "source": [
    "#average sales\n",
    "plt.figure(figsize=(10,7))\n",
    "sns.barplot(x=\"Customer type\", y=\"Total\", hue=\"Gender\", data=yangon_df, palette=\"dark\").set_title(\"Customer type classification with gender\", fontsize=25)"
   ]
  },
  {
   "cell_type": "code",
   "execution_count": 139,
   "id": "be8eb2be",
   "metadata": {},
   "outputs": [
    {
     "data": {
      "text/plain": [
       "Payment\n",
       "Ewallet        126\n",
       "Cash           110\n",
       "Credit card    104\n",
       "dtype: int64"
      ]
     },
     "execution_count": 139,
     "metadata": {},
     "output_type": "execute_result"
    }
   ],
   "source": [
    "yangon_df.groupby(\"Payment\").size().sort_values(ascending=False)"
   ]
  },
  {
   "cell_type": "code",
   "execution_count": 140,
   "id": "a03cb339",
   "metadata": {},
   "outputs": [
    {
     "data": {
      "text/plain": [
       "Text(0.5, 1.0, 'Payment Method of Yangon')"
      ]
     },
     "execution_count": 140,
     "metadata": {},
     "output_type": "execute_result"
    },
    {
     "data": {
      "image/png": "[encoded data removed]",
      "text/plain": [
       "<Figure size 504x360 with 1 Axes>"
      ]
     },
     "metadata": {
      "needs_background": "light"
     },
     "output_type": "display_data"
    }
   ],
   "source": [
    "plt.figure(figsize=(7,5))\n",
    "plt.xlabel(\"Payment\",fontsize=13)\n",
    "plt.ylabel(\"Count\",fontsize=13)\n",
    "sns.countplot(x=\"Payment\", data=yangon_df, palette=\"dark\").set_title(\"Payment Method of Yangon\", fontsize=30)"
   ]
  },
  {
   "cell_type": "markdown",
   "id": "5e6bbc73",
   "metadata": {},
   "source": [
    "Most of the customers are paying through EWallet in Yangon city.\n",
    "\n",
    "Adv: Can be give some cash back in 'Ewallet'"
   ]
  },
  {
   "cell_type": "code",
   "execution_count": 141,
   "id": "9369260f",
   "metadata": {},
   "outputs": [
    {
     "data": {
      "text/plain": [
       "Product line\n",
       "Home and lifestyle        22417.1955\n",
       "Sports and travel         19372.6995\n",
       "Electronic accessories    18317.1135\n",
       "Food and beverages        17163.1005\n",
       "Fashion accessories       16332.5085\n",
       "Health and beauty         12597.7530\n",
       "Name: Total, dtype: float64"
      ]
     },
     "execution_count": 141,
     "metadata": {},
     "output_type": "execute_result"
    }
   ],
   "source": [
    "yangon_df[\"Total\"].groupby(yangon_df[\"Product line\"]).sum().sort_values(ascending=False)"
   ]
  },
  {
   "cell_type": "code",
   "execution_count": 142,
   "id": "81c7f313",
   "metadata": {},
   "outputs": [
    {
     "data": {
      "text/plain": [
       "Text(0.5, 1.0, 'Total Sales of Yangon')"
      ]
     },
     "execution_count": 142,
     "metadata": {},
     "output_type": "execute_result"
    },
    {
     "data": {
      "image/png": "[encoded data removed]",
      "text/plain": [
       "<Figure size 720x504 with 1 Axes>"
      ]
     },
     "metadata": {
      "needs_background": "light"
     },
     "output_type": "display_data"
    }
   ],
   "source": [
    "plt.figure(figsize=(10,7))\n",
    "plt.xlabel(\"Total\",fontsize=13)\n",
    "plt.ylabel(\"Product line\",fontsize=13)\n",
    "sns.barplot(x=\"Total\",y=\"Product line\", data=yangon_df, palette=\"dark\").set_title(\"Total Sales of Yangon\",fontsize=30)"
   ]
  },
  {
   "cell_type": "markdown",
   "id": "bf3d6c96",
   "metadata": {},
   "source": [
    "'Home and lifestyle' is the most selling product in Yangon and 'Health and beauty' is minimum.\n",
    "Adv: 01. Focus on Home and lifestyle product and increase supply.\n",
    "     02. Give some discount in these products."
   ]
  },
  {
   "cell_type": "code",
   "execution_count": 143,
   "id": "f365f9da",
   "metadata": {},
   "outputs": [
    {
     "data": {
      "text/plain": [
       "Product line\n",
       "Home and lifestyle        371\n",
       "Sports and travel         333\n",
       "Electronic accessories    322\n",
       "Food and beverages        313\n",
       "Fashion accessories       263\n",
       "Health and beauty         257\n",
       "Name: Quantity, dtype: int64"
      ]
     },
     "execution_count": 143,
     "metadata": {},
     "output_type": "execute_result"
    }
   ],
   "source": [
    "yangon_df[\"Quantity\"].groupby(yangon_df[\"Product line\"]).sum().sort_values(ascending=False)"
   ]
  },
  {
   "cell_type": "code",
   "execution_count": 144,
   "id": "a1fb20e2",
   "metadata": {},
   "outputs": [
    {
     "data": {
      "text/plain": [
       "Text(0.5, 1.0, 'Quantity Sales(Yangon)')"
      ]
     },
     "execution_count": 144,
     "metadata": {},
     "output_type": "execute_result"
    },
    {
     "data": {
      "image/png": "[encoded data removed]",
      "text/plain": [
       "<Figure size 720x504 with 1 Axes>"
      ]
     },
     "metadata": {
      "needs_background": "light"
     },
     "output_type": "display_data"
    }
   ],
   "source": [
    "plt.figure(figsize=(10,7))\n",
    "plt.xlabel(\"Total\",fontsize=13)\n",
    "plt.ylabel(\"Product line\",fontsize=13)\n",
    "sns.barplot(x=\"Quantity\",y=\"Product line\", data=yangon_df, palette=\"dark\").set_title(\"Quantity Sales(Yangon)\",fontsize=30)"
   ]
  },
  {
   "cell_type": "markdown",
   "id": "6daab838",
   "metadata": {},
   "source": [
    "Yangon sells maximum quantity of 'Home and lifestyle' product.\n",
    "Adv: Have to focus on 'Home and lifestyle' product in Yangon city."
   ]
  },
  {
   "cell_type": "code",
   "execution_count": 145,
   "id": "ee0d7257",
   "metadata": {},
   "outputs": [
    {
     "data": {
      "text/plain": [
       "Gender  Customer type  Product line          \n",
       "Male    Member         Electronic accessories    19\n",
       "                       Food and beverages        19\n",
       "        Normal         Sports and travel         19\n",
       "        Member         Home and lifestyle        18\n",
       "Female  Member         Sports and travel         18\n",
       "        Normal         Electronic accessories    16\n",
       "                       Fashion accessories       16\n",
       "                       Home and lifestyle        16\n",
       "Male    Normal         Health and beauty         16\n",
       "                       Food and beverages        16\n",
       "Female  Member         Home and lifestyle        16\n",
       "Male    Normal         Home and lifestyle        15\n",
       "Female  Normal         Food and beverages        13\n",
       "Male    Normal         Fashion accessories       13\n",
       "                       Electronic accessories    13\n",
       "Female  Member         Health and beauty         12\n",
       "                       Electronic accessories    12\n",
       "                       Fashion accessories       12\n",
       "Male    Member         Sports and travel         11\n",
       "Female  Normal         Sports and travel         11\n",
       "Male    Member         Health and beauty         10\n",
       "Female  Member         Food and beverages        10\n",
       "Male    Member         Fashion accessories       10\n",
       "Female  Normal         Health and beauty          9\n",
       "dtype: int64"
      ]
     },
     "execution_count": 145,
     "metadata": {},
     "output_type": "execute_result"
    }
   ],
   "source": [
    "yangon_df.groupby([\"Gender\", \"Customer type\", \"Product line\"]).size().sort_values(ascending=False)"
   ]
  },
  {
   "cell_type": "code",
   "execution_count": 146,
   "id": "5b509c88",
   "metadata": {},
   "outputs": [
    {
     "data": {
      "text/plain": [
       "Hour\n",
       "11    11349.8910\n",
       "15    11273.7030\n",
       "10    11208.4140\n",
       "16    10869.7365\n",
       "13    10443.7515\n",
       "19    10330.2570\n",
       "12     9485.0700\n",
       "17     9043.7340\n",
       "14     8852.4135\n",
       "18     7447.0200\n",
       "20     5896.3800\n",
       "Name: Total, dtype: float64"
      ]
     },
     "execution_count": 146,
     "metadata": {},
     "output_type": "execute_result"
    }
   ],
   "source": [
    "yangon_df[\"Total\"].groupby(yangon_df[\"Hour\"]).sum().sort_values(ascending=False)"
   ]
  },
  {
   "cell_type": "code",
   "execution_count": 147,
   "id": "5d81b5ba",
   "metadata": {},
   "outputs": [
    {
     "data": {
      "text/plain": [
       "Text(0.5, 1.0, 'Sales Hour(Yangon)')"
      ]
     },
     "execution_count": 147,
     "metadata": {},
     "output_type": "execute_result"
    },
    {
     "data": {
      "image/png": "[encoded data removed]",
      "text/plain": [
       "<Figure size 504x360 with 1 Axes>"
      ]
     },
     "metadata": {
      "needs_background": "light"
     },
     "output_type": "display_data"
    }
   ],
   "source": [
    "plt.figure(figsize=(7,5))\n",
    "sns.lineplot(x=yangon_df[\"Hour\"],y=\"Total\", data=yangon_df,estimator=sum).set_title(\"Sales Hour(Yangon)\",fontsize=30)"
   ]
  },
  {
   "cell_type": "markdown",
   "id": "43d1d6f3",
   "metadata": {},
   "source": [
    "11 am is the most selling hour of Yangon city.\n",
    "\n",
    "Adv: 01. Advertisement in that time.\n",
    "     02.Appoint extra employee in that time."
   ]
  },
  {
   "cell_type": "code",
   "execution_count": 148,
   "id": "4b782e6d",
   "metadata": {},
   "outputs": [
    {
     "data": {
      "text/plain": [
       "7     67\n",
       "9     61\n",
       "6     55\n",
       "5     54\n",
       "4     52\n",
       "8     50\n",
       "10     1\n",
       "Name: Rating, dtype: int64"
      ]
     },
     "execution_count": 148,
     "metadata": {},
     "output_type": "execute_result"
    }
   ],
   "source": [
    "yangon_df[\"Rating\"].value_counts()"
   ]
  },
  {
   "cell_type": "code",
   "execution_count": 149,
   "id": "15dbd81c",
   "metadata": {
    "scrolled": true
   },
   "outputs": [
    {
     "data": {
      "text/plain": [
       "Text(0.5, 1.0, 'Rating-Count')"
      ]
     },
     "execution_count": 149,
     "metadata": {},
     "output_type": "execute_result"
    },
    {
     "data": {
      "image/png": "[encoded data removed]",
      "text/plain": [
       "<Figure size 864x576 with 1 Axes>"
      ]
     },
     "metadata": {
      "needs_background": "light"
     },
     "output_type": "display_data"
    }
   ],
   "source": [
    "plt.figure(figsize=(12,8))\n",
    "plt.xlabel(\"Rating\",fontsize=13)\n",
    "plt.ylabel(\"Count\",fontsize=13)\n",
    "sns.countplot(x=yangon_df[\"Rating\"],data=yangon_df,palette=\"dark\").set_title('Rating-Count',fontsize=20,fontdict={\"weight\": \"bold\"})"
   ]
  },
  {
   "cell_type": "code",
   "execution_count": 150,
   "id": "e359e19d",
   "metadata": {},
   "outputs": [
    {
     "data": {
      "text/plain": [
       "Product line\n",
       "Fashion accessories       7.0\n",
       "Food and beverages        7.0\n",
       "Home and lifestyle        7.0\n",
       "Sports and travel         7.0\n",
       "Electronic accessories    6.0\n",
       "Health and beauty         6.0\n",
       "Name: Rating, dtype: float64"
      ]
     },
     "execution_count": 150,
     "metadata": {},
     "output_type": "execute_result"
    }
   ],
   "source": [
    "yangon_df[\"Rating\"].groupby(yangon_df[\"Product line\"]).median().sort_values(ascending=False)"
   ]
  },
  {
   "cell_type": "code",
   "execution_count": 151,
   "id": "8d697c4e",
   "metadata": {},
   "outputs": [
    {
     "data": {
      "text/plain": [
       "Text(0.5, 1.0, 'Product line Rating(Yangon)')"
      ]
     },
     "execution_count": 151,
     "metadata": {},
     "output_type": "execute_result"
    },
    {
     "data": {
      "image/png": "[encoded data removed]",
      "text/plain": [
       "<Figure size 720x576 with 1 Axes>"
      ]
     },
     "metadata": {
      "needs_background": "light"
     },
     "output_type": "display_data"
    }
   ],
   "source": [
    "plt.figure(figsize=(10,8))\n",
    "plt.xlabel(\"Rating\",fontsize=13)\n",
    "plt.ylabel(\"Product line\",fontsize=13)\n",
    "sns.barplot(x=\"Rating\",y=\"Product line\",data=yangon_df,palette=\"dark\",estimator=sum).set_title(\"Product line Rating(Yangon)\",fontsize=30)"
   ]
  },
  {
   "cell_type": "markdown",
   "id": "4f9f713f",
   "metadata": {},
   "source": [
    "# Naypyitaw City"
   ]
  },
  {
   "cell_type": "code",
   "execution_count": 152,
   "id": "8168196d",
   "metadata": {},
   "outputs": [
    {
     "data": {
      "text/plain": [
       "Customer type\n",
       "Member    169\n",
       "Normal    159\n",
       "dtype: int64"
      ]
     },
     "execution_count": 152,
     "metadata": {},
     "output_type": "execute_result"
    }
   ],
   "source": [
    "Naypyitaw_df.groupby(\"Customer type\").size()"
   ]
  },
  {
   "cell_type": "code",
   "execution_count": 153,
   "id": "9474cdf1",
   "metadata": {},
   "outputs": [
    {
     "data": {
      "text/plain": [
       "<AxesSubplot: xlabel='Customer type', ylabel='count'>"
      ]
     },
     "execution_count": 153,
     "metadata": {},
     "output_type": "execute_result"
    },
    {
     "data": {
      "image/png": "[encoded data removed]",
      "text/plain": [
       "<Figure size 432x288 with 1 Axes>"
      ]
     },
     "metadata": {
      "needs_background": "light"
     },
     "output_type": "display_data"
    }
   ],
   "source": [
    "sns.countplot(x=\"Customer type\",data=Naypyitaw_df,order=[\"Member\",\"Normal\"],palette='dark')"
   ]
  },
  {
   "cell_type": "code",
   "execution_count": 154,
   "id": "e0dec12c",
   "metadata": {},
   "outputs": [
    {
     "data": {
      "text/plain": [
       "Gender\n",
       "Female    178\n",
       "Male      150\n",
       "dtype: int64"
      ]
     },
     "execution_count": 154,
     "metadata": {},
     "output_type": "execute_result"
    }
   ],
   "source": [
    "Naypyitaw_df.groupby(\"Gender\").size()"
   ]
  },
  {
   "cell_type": "code",
   "execution_count": 155,
   "id": "ef251811",
   "metadata": {},
   "outputs": [
    {
     "data": {
      "text/plain": [
       "<AxesSubplot: xlabel='Gender', ylabel='count'>"
      ]
     },
     "execution_count": 155,
     "metadata": {},
     "output_type": "execute_result"
    },
    {
     "data": {
      "image/png": "[encoded data removed]",
      "text/plain": [
       "<Figure size 432x288 with 1 Axes>"
      ]
     },
     "metadata": {
      "needs_background": "light"
     },
     "output_type": "display_data"
    }
   ],
   "source": [
    "sns.countplot(x=\"Gender\",data=Naypyitaw_df,order=[\"Male\",\"Female\"],palette=\"dark\")"
   ]
  },
  {
   "cell_type": "code",
   "execution_count": 156,
   "id": "7f8ba2e1",
   "metadata": {},
   "outputs": [
    {
     "data": {
      "text/plain": [
       "Customer type  Gender\n",
       "Member         Female    96\n",
       "               Male      73\n",
       "Normal         Female    82\n",
       "               Male      77\n",
       "dtype: int64"
      ]
     },
     "execution_count": 156,
     "metadata": {},
     "output_type": "execute_result"
    }
   ],
   "source": [
    "Naypyitaw_df.groupby([\"Customer type\", \"Gender\"]).size()"
   ]
  },
  {
   "cell_type": "code",
   "execution_count": 157,
   "id": "8765e124",
   "metadata": {},
   "outputs": [
    {
     "data": {
      "text/plain": [
       "<AxesSubplot: xlabel='Customer type', ylabel='Total'>"
      ]
     },
     "execution_count": 157,
     "metadata": {},
     "output_type": "execute_result"
    },
    {
     "data": {
      "image/png": "[encoded data removed]",
      "text/plain": [
       "<Figure size 720x504 with 1 Axes>"
      ]
     },
     "metadata": {
      "needs_background": "light"
     },
     "output_type": "display_data"
    }
   ],
   "source": [
    "#Average sales\n",
    "\n",
    "plt.figure(figsize=(10,7))\n",
    "sns.barplot(x=\"Customer type\",y=\"Total\",hue=\"Gender\",data=Naypyitaw_df,palette=\"dark\")"
   ]
  },
  {
   "cell_type": "code",
   "execution_count": 158,
   "id": "e211c635",
   "metadata": {},
   "outputs": [
    {
     "data": {
      "text/plain": [
       "Payment\n",
       "Cash           124\n",
       "Ewallet        106\n",
       "Credit card     98\n",
       "dtype: int64"
      ]
     },
     "execution_count": 158,
     "metadata": {},
     "output_type": "execute_result"
    }
   ],
   "source": [
    "Naypyitaw_df.groupby(\"Payment\").size().sort_values(ascending=False)"
   ]
  },
  {
   "cell_type": "code",
   "execution_count": 159,
   "id": "0cb6f4ee",
   "metadata": {},
   "outputs": [
    {
     "data": {
      "text/plain": [
       "Text(0.5, 1.0, 'Payment Method')"
      ]
     },
     "execution_count": 159,
     "metadata": {},
     "output_type": "execute_result"
    },
    {
     "data": {
      "image/png": "[encoded data removed]",
      "text/plain": [
       "<Figure size 504x360 with 1 Axes>"
      ]
     },
     "metadata": {
      "needs_background": "light"
     },
     "output_type": "display_data"
    }
   ],
   "source": [
    "plt.figure(figsize=(7,5))\n",
    "plt.xlabel(\"Payment\",fontsize=12)\n",
    "plt.ylabel(\"Count\",fontsize=12)\n",
    "sns.countplot(x=\"Payment\",data=Naypyitaw_df,palette=\"dark\").set_title(\"Payment Method\",fontsize=15,fontdict={\"weight\": \"bold\"}) "
   ]
  },
  {
   "cell_type": "code",
   "execution_count": 160,
   "id": "e5f2580c",
   "metadata": {},
   "outputs": [
    {
     "data": {
      "text/plain": [
       "Product line\n",
       "Food and beverages        23766.8550\n",
       "Fashion accessories       21560.0700\n",
       "Electronic accessories    18968.9745\n",
       "Health and beauty         16615.3260\n",
       "Sports and travel         15761.9280\n",
       "Home and lifestyle        13895.5530\n",
       "Name: Total, dtype: float64"
      ]
     },
     "execution_count": 160,
     "metadata": {},
     "output_type": "execute_result"
    }
   ],
   "source": [
    "Naypyitaw_df['Total'].groupby(Naypyitaw_df[\"Product line\"]).sum().sort_values(ascending=False)"
   ]
  },
  {
   "cell_type": "code",
   "execution_count": 161,
   "id": "df5c2840",
   "metadata": {},
   "outputs": [
    {
     "data": {
      "text/plain": [
       "Text(0.5, 1.0, 'Total Sales (Naypyitaw)')"
      ]
     },
     "execution_count": 161,
     "metadata": {},
     "output_type": "execute_result"
    },
    {
     "data": {
      "image/png": "[encoded data removed]",
      "text/plain": [
       "<Figure size 720x576 with 1 Axes>"
      ]
     },
     "metadata": {
      "needs_background": "light"
     },
     "output_type": "display_data"
    }
   ],
   "source": [
    "plt.figure(figsize=(10,8))\n",
    "plt.xlabel(\"Total\",fontsize=15)\n",
    "plt.ylabel(\"Product line\",fontsize=15)\n",
    "sns.barplot(x=\"Total\",y=\"Product line\",data=Naypyitaw_df,palette=\"dark\",estimator=sum).set_title(\"Total Sales (Naypyitaw)\",fontsize=30)"
   ]
  },
  {
   "cell_type": "code",
   "execution_count": null,
   "id": "8ad6f81d",
   "metadata": {},
   "outputs": [],
   "source": []
  },
  {
   "cell_type": "code",
   "execution_count": 162,
   "id": "fe447e00",
   "metadata": {},
   "outputs": [
    {
     "data": {
      "text/plain": [
       "Product line\n",
       "Food and beverages        369\n",
       "Fashion accessories       342\n",
       "Electronic accessories    333\n",
       "Health and beauty         277\n",
       "Sports and travel         265\n",
       "Home and lifestyle        245\n",
       "Name: Quantity, dtype: int64"
      ]
     },
     "execution_count": 162,
     "metadata": {},
     "output_type": "execute_result"
    }
   ],
   "source": [
    "Naypyitaw_df[\"Quantity\"].groupby(Naypyitaw_df[\"Product line\"]).sum().sort_values(ascending=False)"
   ]
  },
  {
   "cell_type": "code",
   "execution_count": 163,
   "id": "cd59b0ac",
   "metadata": {},
   "outputs": [
    {
     "data": {
      "text/plain": [
       "Text(0.5, 1.0, 'Quantity Sales (Naypyitaw)')"
      ]
     },
     "execution_count": 163,
     "metadata": {},
     "output_type": "execute_result"
    },
    {
     "data": {
      "image/png": "[encoded data removed]",
      "text/plain": [
       "<Figure size 864x504 with 1 Axes>"
      ]
     },
     "metadata": {
      "needs_background": "light"
     },
     "output_type": "display_data"
    }
   ],
   "source": [
    "plt.figure(figsize=(12,7))\n",
    "plt.xlabel(\"Total\",fontsize=15)\n",
    "plt.ylabel(\"Product line\",fontsize=15)\n",
    "sns.barplot(x=\"Quantity\",y=\"Product line\",data=Naypyitaw_df,palette=\"dark\",estimator=sum).set_title(\"Quantity Sales (Naypyitaw)\",fontsize=30)"
   ]
  },
  {
   "cell_type": "code",
   "execution_count": 164,
   "id": "0d26f9ef",
   "metadata": {},
   "outputs": [
    {
     "data": {
      "text/plain": [
       "Gender  Customer type  Product line          \n",
       "Female  Member         Food and beverages        23\n",
       "                       Home and lifestyle        19\n",
       "                       Fashion accessories       19\n",
       "        Normal         Electronic accessories    19\n",
       "Male    Normal         Fashion accessories       17\n",
       "                       Electronic accessories    16\n",
       "Female  Normal         Fashion accessories       16\n",
       "Male    Normal         Food and beverages        15\n",
       "Female  Normal         Food and beverages        15\n",
       "        Member         Sports and travel         15\n",
       "Male    Normal         Health and beauty         15\n",
       "Female  Normal         Sports and travel         14\n",
       "Male    Member         Health and beauty         14\n",
       "                       Sports and travel         13\n",
       "                       Fashion accessories       13\n",
       "                       Food and beverages        13\n",
       "Female  Normal         Health and beauty         12\n",
       "Male    Member         Electronic accessories    11\n",
       "Female  Member         Health and beauty         11\n",
       "Male    Normal         Home and lifestyle        11\n",
       "Female  Member         Electronic accessories     9\n",
       "Male    Member         Home and lifestyle         9\n",
       "Female  Normal         Home and lifestyle         6\n",
       "Male    Normal         Sports and travel          3\n",
       "dtype: int64"
      ]
     },
     "execution_count": 164,
     "metadata": {},
     "output_type": "execute_result"
    }
   ],
   "source": [
    "Naypyitaw_df.groupby([\"Gender\", \"Customer type\", \"Product line\"]).size().sort_values(ascending=False)"
   ]
  },
  {
   "cell_type": "code",
   "execution_count": 165,
   "id": "ff9340ee",
   "metadata": {},
   "outputs": [
    {
     "data": {
      "text/plain": [
       "Hour\n",
       "19    13106.8035\n",
       "13    13007.0640\n",
       "10    11347.2240\n",
       "14    10281.4215\n",
       "16    10233.0270\n",
       "20     9689.0325\n",
       "15     9664.6410\n",
       "18     9028.0365\n",
       "11     8545.6245\n",
       "12     8105.4015\n",
       "17     7560.4305\n",
       "Name: Total, dtype: float64"
      ]
     },
     "execution_count": 165,
     "metadata": {},
     "output_type": "execute_result"
    }
   ],
   "source": [
    "Naypyitaw_df['Total'].groupby(Naypyitaw_df[\"Hour\"]).sum().sort_values(ascending=False)"
   ]
  },
  {
   "cell_type": "code",
   "execution_count": 166,
   "id": "549932de",
   "metadata": {},
   "outputs": [
    {
     "data": {
      "text/plain": [
       "Text(0.5, 1.0, 'Sale Hour (Naypyitaw)')"
      ]
     },
     "execution_count": 166,
     "metadata": {},
     "output_type": "execute_result"
    },
    {
     "data": {
      "image/png": "[encoded data removed]",
      "text/plain": [
       "<Figure size 504x360 with 1 Axes>"
      ]
     },
     "metadata": {
      "needs_background": "light"
     },
     "output_type": "display_data"
    }
   ],
   "source": [
    "plt.figure(figsize=(7,5))\n",
    "sns.lineplot(x=Naypyitaw_df[\"Hour\"],y=\"Total\",data=Naypyitaw_df,estimator=sum).set_title(\"Sale Hour (Naypyitaw)\",fontsize=30)"
   ]
  },
  {
   "cell_type": "code",
   "execution_count": 167,
   "id": "6e9bfaa3",
   "metadata": {},
   "outputs": [
    {
     "data": {
      "text/plain": [
       "Hour\n",
       "19    222\n",
       "13    201\n",
       "10    181\n",
       "14    173\n",
       "12    166\n",
       "16    161\n",
       "20    156\n",
       "17    151\n",
       "15    146\n",
       "18    138\n",
       "11    136\n",
       "Name: Quantity, dtype: int64"
      ]
     },
     "execution_count": 167,
     "metadata": {},
     "output_type": "execute_result"
    }
   ],
   "source": [
    "Naypyitaw_df[\"Quantity\"].groupby(Naypyitaw_df[\"Hour\"]).sum().sort_values(ascending=False)"
   ]
  },
  {
   "cell_type": "code",
   "execution_count": 168,
   "id": "ad082fdd",
   "metadata": {},
   "outputs": [
    {
     "data": {
      "text/plain": [
       "Text(0.5, 1.0, 'Quantity Sales (Naypyitaw)')"
      ]
     },
     "execution_count": 168,
     "metadata": {},
     "output_type": "execute_result"
    },
    {
     "data": {
      "image/png": "[encoded data removed]",
      "text/plain": [
       "<Figure size 576x360 with 1 Axes>"
      ]
     },
     "metadata": {
      "needs_background": "light"
     },
     "output_type": "display_data"
    }
   ],
   "source": [
    "plt.figure(figsize=(8,5))\n",
    "sns.lineplot(x=Naypyitaw_df[\"Hour\"],y=\"Quantity\",data=Naypyitaw_df,estimator=sum).set_title(\"Quantity Sales (Naypyitaw)\",fontsize=30)"
   ]
  },
  {
   "cell_type": "code",
   "execution_count": 169,
   "id": "57062a95",
   "metadata": {},
   "outputs": [
    {
     "data": {
      "text/plain": [
       "6     60\n",
       "9     59\n",
       "8     59\n",
       "5     55\n",
       "7     52\n",
       "4     42\n",
       "10     1\n",
       "Name: Rating, dtype: int64"
      ]
     },
     "execution_count": 169,
     "metadata": {},
     "output_type": "execute_result"
    }
   ],
   "source": [
    "Naypyitaw_df[\"Rating\"].value_counts()"
   ]
  },
  {
   "cell_type": "code",
   "execution_count": 170,
   "id": "458dc864",
   "metadata": {},
   "outputs": [
    {
     "ename": "TypeError",
     "evalue": "countplot() got multiple values for argument 'data'",
     "output_type": "error",
     "traceback": [
      "\u001b[1;31m---------------------------------------------------------------------------\u001b[0m",
      "\u001b[1;31mTypeError\u001b[0m                                 Traceback (most recent call last)",
      "Input \u001b[1;32mIn [170]\u001b[0m, in \u001b[0;36m<cell line: 4>\u001b[1;34m()\u001b[0m\n\u001b[0;32m      2\u001b[0m plt\u001b[38;5;241m.\u001b[39mxlabel(\u001b[38;5;124m\"\u001b[39m\u001b[38;5;124mRating\u001b[39m\u001b[38;5;124m\"\u001b[39m,fontsize\u001b[38;5;241m=\u001b[39m\u001b[38;5;241m15\u001b[39m)\n\u001b[0;32m      3\u001b[0m plt\u001b[38;5;241m.\u001b[39mylabel(\u001b[38;5;124m\"\u001b[39m\u001b[38;5;124mCount\u001b[39m\u001b[38;5;124m\"\u001b[39m,fontsize\u001b[38;5;241m=\u001b[39m\u001b[38;5;241m15\u001b[39m)\n\u001b[1;32m----> 4\u001b[0m \u001b[43msns\u001b[49m\u001b[38;5;241;43m.\u001b[39;49m\u001b[43mcountplot\u001b[49m\u001b[43m(\u001b[49m\u001b[43mNaypyitaw_df\u001b[49m\u001b[43m[\u001b[49m\u001b[38;5;124;43m\"\u001b[39;49m\u001b[38;5;124;43mRating\u001b[39;49m\u001b[38;5;124;43m\"\u001b[39;49m\u001b[43m]\u001b[49m\u001b[43m,\u001b[49m\u001b[43mdata\u001b[49m\u001b[38;5;241;43m=\u001b[39;49m\u001b[43mNaypyitaw_df\u001b[49m\u001b[43m)\u001b[49m\u001b[38;5;241m.\u001b[39mset_title(\u001b[38;5;124m\"\u001b[39m\u001b[38;5;124mRating-Count\u001b[39m\u001b[38;5;124m\"\u001b[39m,fontsize\u001b[38;5;241m=\u001b[39m\u001b[38;5;241m30\u001b[39m)\n",
      "\u001b[1;31mTypeError\u001b[0m: countplot() got multiple values for argument 'data'"
     ]
    },
    {
     "data": {
      "image/png": "[encoded data removed]",
      "text/plain": [
       "<Figure size 864x504 with 1 Axes>"
      ]
     },
     "metadata": {
      "needs_background": "light"
     },
     "output_type": "display_data"
    }
   ],
   "source": [
    "plt.figure(figsize=(12,7))\n",
    "plt.xlabel(\"Rating\",fontsize=15)\n",
    "plt.ylabel(\"Count\",fontsize=15)\n",
    "sns.countplot(Naypyitaw_df[\"Rating\"],data=Naypyitaw_df).set_title(\"Rating-Count\",fontsize=30)"
   ]
  },
  {
   "cell_type": "markdown",
   "id": "866f5582",
   "metadata": {},
   "source": [
    "# Mandalay City"
   ]
  },
  {
   "cell_type": "code",
   "execution_count": null,
   "id": "b800b089",
   "metadata": {},
   "outputs": [],
   "source": [
    "Mandalay_df.groupby(\"Customer type\").size()"
   ]
  },
  {
   "cell_type": "code",
   "execution_count": null,
   "id": "60d3ea15",
   "metadata": {},
   "outputs": [],
   "source": [
    "sns.countplot(x=\"Customer type\",data=Mandalay_df,order=[\"Member\",\"Normal\"],palette=\"dark\")"
   ]
  },
  {
   "cell_type": "code",
   "execution_count": null,
   "id": "0ad131af",
   "metadata": {},
   "outputs": [],
   "source": [
    "Mandalay_df.groupby(\"Gender\").size()"
   ]
  },
  {
   "cell_type": "code",
   "execution_count": null,
   "id": "69633d43",
   "metadata": {},
   "outputs": [],
   "source": [
    "sns.countplot(x=\"Gender\",data=Mandalay_df,order=[\"Male\",\"Female\"],palette=\"dark\")"
   ]
  },
  {
   "cell_type": "code",
   "execution_count": null,
   "id": "ab322a30",
   "metadata": {},
   "outputs": [],
   "source": [
    "Mandalay_df.groupby([\"Customer type\", \"Gender\"]).size()"
   ]
  },
  {
   "cell_type": "code",
   "execution_count": null,
   "id": "84d0a6b3",
   "metadata": {},
   "outputs": [],
   "source": [
    "# Average sales\n",
    "\n",
    "plt.figure(figsize=(10,7))\n",
    "sns.barplot(x=\"Customer type\",y=\"Total\",hue=\"Gender\",data=Mandalay_df,palette=\"dark\")"
   ]
  },
  {
   "cell_type": "code",
   "execution_count": null,
   "id": "0855653d",
   "metadata": {},
   "outputs": [],
   "source": [
    "Mandalay_df.groupby(\"Payment\").size().sort_values(ascending=False)"
   ]
  },
  {
   "cell_type": "code",
   "execution_count": null,
   "id": "a71df88c",
   "metadata": {},
   "outputs": [],
   "source": [
    "plt.figure(figsize=(7,5))\n",
    "plt.xlabel(\"Payment\",fontsize=12)\n",
    "plt.ylabel(\"Count\",fontsize=12)\n",
    "sns.countplot(x=\"Payment\",data=Mandalay_df,palette=\"dark\").set_title(\"Payment Method\",fontsize=30)"
   ]
  },
  {
   "cell_type": "code",
   "execution_count": null,
   "id": "502a91ec",
   "metadata": {},
   "outputs": [],
   "source": [
    "Mandalay_df[\"Total\"].groupby(Mandalay_df[\"Product line\"]).sum().sort_values(ascending=False)"
   ]
  },
  {
   "cell_type": "code",
   "execution_count": null,
   "id": "2ef992b8",
   "metadata": {},
   "outputs": [],
   "source": [
    "plt.figure(figsize=(12,7))\n",
    "plt.xlabel(\"Total\",fontsize=15)\n",
    "plt.ylabel(\"Product line\",fontsize=15)\n",
    "sns.barplot(x=\"Total\",y=\"Product line\",data=Mandalay_df,palette=\"bright\",estimator=sum).set_title(\"Total Sales (Mandalay)\",fontsize=30)"
   ]
  },
  {
   "cell_type": "code",
   "execution_count": null,
   "id": "0477fb86",
   "metadata": {},
   "outputs": [],
   "source": [
    "Mandalay_df[\"Quantity\"].groupby(yangon_df[\"Product line\"]).sum().sort_values(ascending=False)"
   ]
  },
  {
   "cell_type": "code",
   "execution_count": null,
   "id": "e622dcab",
   "metadata": {},
   "outputs": [],
   "source": [
    "plt.figure(figsize=(12,7))\n",
    "plt.xlabel(\"Total\",fontsize=15)\n",
    "plt.ylabel(\"Product line\",fontsize=15)\n",
    "sns.barplot(x=\"Quantity\",y=\"Product line\",data=Mandalay_df,palette=\"dark\",estimator=sum).set_title(\"Quantity Sales (Mandalay)\",fontsize=30)"
   ]
  },
  {
   "cell_type": "code",
   "execution_count": null,
   "id": "10f629d7",
   "metadata": {},
   "outputs": [],
   "source": [
    "Mandalay_df.groupby([\"Gender\", \"Customer type\", \"Product line\"]).size().sort_values(ascending=False)"
   ]
  },
  {
   "cell_type": "code",
   "execution_count": null,
   "id": "9ad7a328",
   "metadata": {},
   "outputs": [],
   "source": [
    "Mandalay_df[\"Total\"].groupby(Mandalay_df[\"Hour\"]).sum().sort_values(ascending=False)"
   ]
  },
  {
   "cell_type": "code",
   "execution_count": null,
   "id": "dedc94fd",
   "metadata": {},
   "outputs": [],
   "source": [
    "plt.figure(figsize=(7,5))\n",
    "sns.lineplot(x=Mandalay_df[\"Hour\"],y=\"Total\",data=Mandalay_df,estimator=sum).set_title(\"Sale Hour (Mandalay)\",fontsize=30)"
   ]
  },
  {
   "cell_type": "code",
   "execution_count": null,
   "id": "277e92e1",
   "metadata": {},
   "outputs": [],
   "source": [
    "Mandalay_df[\"Quantity\"].groupby(Mandalay_df[\"Hour\"]).sum().sort_values(ascending=False)"
   ]
  },
  {
   "cell_type": "code",
   "execution_count": null,
   "id": "24d6aa97",
   "metadata": {},
   "outputs": [],
   "source": [
    "plt.figure(figsize=(8,5))\n",
    "sns.lineplot(x=Mandalay_df[\"Hour\"],y=\"Quantity\",data=Mandalay_df,estimator=sum).set_title(\"Quantity Sales (Mandalay)\",fontsize=30)"
   ]
  },
  {
   "cell_type": "code",
   "execution_count": null,
   "id": "4f2f7d8f",
   "metadata": {},
   "outputs": [],
   "source": [
    "Mandalay_df[\"Rating\"].value_counts()"
   ]
  },
  {
   "cell_type": "code",
   "execution_count": null,
   "id": "6cf47e0e",
   "metadata": {},
   "outputs": [],
   "source": [
    "plt.figure(figsize=(12,7))\n",
    "plt.xlabel(\"Rating\",fontsize=15)\n",
    "plt.ylabel(\"Count\",fontsize=15)\n",
    "sns.countplot(Mandalay_df[\"Rating\"],data=Mandalay_df).set_title(\"Rating-Count\",fontsize=30)"
   ]
  },
  {
   "cell_type": "code",
   "execution_count": null,
   "id": "a6d5937a",
   "metadata": {},
   "outputs": [],
   "source": [
    "Mandalay_df[\"Rating\"].groupby(Mandalay_df[\"Product line\"]).median().sort_values(ascending=False)"
   ]
  },
  {
   "cell_type": "code",
   "execution_count": null,
   "id": "106e8c99",
   "metadata": {},
   "outputs": [],
   "source": [
    "plt.figure(figsize=(12,7))\n",
    "plt.xlabel(\"Rating\",fontsize=15)\n",
    "plt.ylabel(\"Product line\",fontsize=15)\n",
    "sns.barplot(x=\"Rating\",y=\"Product line\",data=Mandalay_df,palette=\"dark\",estimator=np.median).set_title(\"Rating-Product line (Mandalay)\",fontsize=30)"
   ]
  },
  {
   "cell_type": "code",
   "execution_count": 171,
   "id": "771506cd",
   "metadata": {},
   "outputs": [
    {
     "data": {
      "text/plain": [
       "Customer type  Gender\n",
       "Member         Female    80\n",
       "               Male      87\n",
       "Normal         Female    81\n",
       "               Male      92\n",
       "dtype: int64"
      ]
     },
     "execution_count": 171,
     "metadata": {},
     "output_type": "execute_result"
    }
   ],
   "source": [
    "yangon_df.groupby([\"Customer type\", \"Gender\"]).size()"
   ]
  },
  {
   "cell_type": "code",
   "execution_count": 172,
   "id": "05887362",
   "metadata": {},
   "outputs": [
    {
     "data": {
      "text/plain": [
       "City       Rating\n",
       "Mandalay   4         59\n",
       "           5         53\n",
       "           6         69\n",
       "           7         53\n",
       "           8         54\n",
       "           9         41\n",
       "           10         3\n",
       "Naypyitaw  4         42\n",
       "           5         55\n",
       "           6         60\n",
       "           7         52\n",
       "           8         59\n",
       "           9         59\n",
       "           10         1\n",
       "Yangon     4         52\n",
       "           5         54\n",
       "           6         55\n",
       "           7         67\n",
       "           8         50\n",
       "           9         61\n",
       "           10         1\n",
       "dtype: int64"
      ]
     },
     "execution_count": 172,
     "metadata": {},
     "output_type": "execute_result"
    }
   ],
   "source": [
    "df.groupby([\"City\",\"Rating\"]).size()"
   ]
  },
  {
   "cell_type": "code",
   "execution_count": 175,
   "id": "d9cddb14",
   "metadata": {},
   "outputs": [
    {
     "data": {
      "text/html": [
       "<div>\n",
       "<style scoped>\n",
       "    .dataframe tbody tr th:only-of-type {\n",
       "        vertical-align: middle;\n",
       "    }\n",
       "\n",
       "    .dataframe tbody tr th {\n",
       "        vertical-align: top;\n",
       "    }\n",
       "\n",
       "    .dataframe thead th {\n",
       "        text-align: right;\n",
       "    }\n",
       "</style>\n",
       "<table border=\"1\" class=\"dataframe\">\n",
       "  <thead>\n",
       "    <tr style=\"text-align: right;\">\n",
       "      <th></th>\n",
       "      <th>Invoice ID</th>\n",
       "      <th>Branch</th>\n",
       "      <th>City</th>\n",
       "      <th>Customer type</th>\n",
       "      <th>Gender</th>\n",
       "      <th>Product line</th>\n",
       "      <th>Unit price</th>\n",
       "      <th>Quantity</th>\n",
       "      <th>Tax 5%</th>\n",
       "      <th>Total</th>\n",
       "      <th>Date</th>\n",
       "      <th>Time</th>\n",
       "      <th>Payment</th>\n",
       "      <th>cogs</th>\n",
       "      <th>gross margin percentage</th>\n",
       "      <th>gross income</th>\n",
       "      <th>Rating</th>\n",
       "      <th>Hour</th>\n",
       "    </tr>\n",
       "  </thead>\n",
       "  <tbody>\n",
       "    <tr>\n",
       "      <th>60</th>\n",
       "      <td>285-68-5083</td>\n",
       "      <td>C</td>\n",
       "      <td>Naypyitaw</td>\n",
       "      <td>Member</td>\n",
       "      <td>Female</td>\n",
       "      <td>Sports and travel</td>\n",
       "      <td>24.74</td>\n",
       "      <td>3</td>\n",
       "      <td>3.7110</td>\n",
       "      <td>77.9310</td>\n",
       "      <td>2/15/2019</td>\n",
       "      <td>17:47</td>\n",
       "      <td>Credit card</td>\n",
       "      <td>74.22</td>\n",
       "      <td>4.761905</td>\n",
       "      <td>3.7110</td>\n",
       "      <td>10</td>\n",
       "      <td>17</td>\n",
       "    </tr>\n",
       "    <tr>\n",
       "      <th>62</th>\n",
       "      <td>347-34-2234</td>\n",
       "      <td>B</td>\n",
       "      <td>Mandalay</td>\n",
       "      <td>Member</td>\n",
       "      <td>Female</td>\n",
       "      <td>Sports and travel</td>\n",
       "      <td>55.07</td>\n",
       "      <td>9</td>\n",
       "      <td>24.7815</td>\n",
       "      <td>520.4115</td>\n",
       "      <td>2/3/2019</td>\n",
       "      <td>13:40</td>\n",
       "      <td>Ewallet</td>\n",
       "      <td>495.63</td>\n",
       "      <td>4.761905</td>\n",
       "      <td>24.7815</td>\n",
       "      <td>10</td>\n",
       "      <td>13</td>\n",
       "    </tr>\n",
       "    <tr>\n",
       "      <th>159</th>\n",
       "      <td>423-57-2993</td>\n",
       "      <td>B</td>\n",
       "      <td>Mandalay</td>\n",
       "      <td>Normal</td>\n",
       "      <td>Male</td>\n",
       "      <td>Sports and travel</td>\n",
       "      <td>93.39</td>\n",
       "      <td>6</td>\n",
       "      <td>28.0170</td>\n",
       "      <td>588.3570</td>\n",
       "      <td>3/27/2019</td>\n",
       "      <td>19:18</td>\n",
       "      <td>Ewallet</td>\n",
       "      <td>560.34</td>\n",
       "      <td>4.761905</td>\n",
       "      <td>28.0170</td>\n",
       "      <td>10</td>\n",
       "      <td>19</td>\n",
       "    </tr>\n",
       "    <tr>\n",
       "      <th>387</th>\n",
       "      <td>725-56-0833</td>\n",
       "      <td>A</td>\n",
       "      <td>Yangon</td>\n",
       "      <td>Normal</td>\n",
       "      <td>Female</td>\n",
       "      <td>Health and beauty</td>\n",
       "      <td>32.32</td>\n",
       "      <td>10</td>\n",
       "      <td>16.1600</td>\n",
       "      <td>339.3600</td>\n",
       "      <td>2/20/2019</td>\n",
       "      <td>16:49</td>\n",
       "      <td>Credit card</td>\n",
       "      <td>323.20</td>\n",
       "      <td>4.761905</td>\n",
       "      <td>16.1600</td>\n",
       "      <td>10</td>\n",
       "      <td>16</td>\n",
       "    </tr>\n",
       "    <tr>\n",
       "      <th>853</th>\n",
       "      <td>866-70-2814</td>\n",
       "      <td>B</td>\n",
       "      <td>Mandalay</td>\n",
       "      <td>Normal</td>\n",
       "      <td>Female</td>\n",
       "      <td>Electronic accessories</td>\n",
       "      <td>52.79</td>\n",
       "      <td>10</td>\n",
       "      <td>26.3950</td>\n",
       "      <td>554.2950</td>\n",
       "      <td>2/25/2019</td>\n",
       "      <td>11:58</td>\n",
       "      <td>Ewallet</td>\n",
       "      <td>527.90</td>\n",
       "      <td>4.761905</td>\n",
       "      <td>26.3950</td>\n",
       "      <td>10</td>\n",
       "      <td>11</td>\n",
       "    </tr>\n",
       "  </tbody>\n",
       "</table>\n",
       "</div>"
      ],
      "text/plain": [
       "      Invoice ID Branch       City Customer type  Gender  \\\n",
       "60   285-68-5083      C  Naypyitaw        Member  Female   \n",
       "62   347-34-2234      B   Mandalay        Member  Female   \n",
       "159  423-57-2993      B   Mandalay        Normal    Male   \n",
       "387  725-56-0833      A     Yangon        Normal  Female   \n",
       "853  866-70-2814      B   Mandalay        Normal  Female   \n",
       "\n",
       "               Product line  Unit price  Quantity   Tax 5%     Total  \\\n",
       "60        Sports and travel       24.74         3   3.7110   77.9310   \n",
       "62        Sports and travel       55.07         9  24.7815  520.4115   \n",
       "159       Sports and travel       93.39         6  28.0170  588.3570   \n",
       "387       Health and beauty       32.32        10  16.1600  339.3600   \n",
       "853  Electronic accessories       52.79        10  26.3950  554.2950   \n",
       "\n",
       "          Date   Time      Payment    cogs  gross margin percentage  \\\n",
       "60   2/15/2019  17:47  Credit card   74.22                 4.761905   \n",
       "62    2/3/2019  13:40      Ewallet  495.63                 4.761905   \n",
       "159  3/27/2019  19:18      Ewallet  560.34                 4.761905   \n",
       "387  2/20/2019  16:49  Credit card  323.20                 4.761905   \n",
       "853  2/25/2019  11:58      Ewallet  527.90                 4.761905   \n",
       "\n",
       "     gross income  Rating  Hour  \n",
       "60         3.7110      10    17  \n",
       "62        24.7815      10    13  \n",
       "159       28.0170      10    19  \n",
       "387       16.1600      10    16  \n",
       "853       26.3950      10    11  "
      ]
     },
     "execution_count": 175,
     "metadata": {},
     "output_type": "execute_result"
    }
   ],
   "source": [
    "df_rating_10=df[df[\"Rating\"]==10]\n",
    "df_rating_10"
   ]
  },
  {
   "cell_type": "code",
   "execution_count": 178,
   "id": "18bf2278",
   "metadata": {},
   "outputs": [
    {
     "data": {
      "text/plain": [
       "Mandalay     3\n",
       "Naypyitaw    1\n",
       "Yangon       1\n",
       "Name: City, dtype: int64"
      ]
     },
     "execution_count": 178,
     "metadata": {},
     "output_type": "execute_result"
    }
   ],
   "source": [
    "df_rating_10[\"City\"].value_counts()"
   ]
  },
  {
   "cell_type": "code",
   "execution_count": null,
   "id": "bf7fbe28",
   "metadata": {},
   "outputs": [],
   "source": []
  }
 ],
 "metadata": {
  "kernelspec": {
   "display_name": "Python 3 (ipykernel)",
   "language": "python",
   "name": "python3"
  },
  "language_info": {
   "codemirror_mode": {
    "name": "ipython",
    "version": 3
   },
   "file_extension": ".py",
   "mimetype": "text/x-python",
   "name": "python",
   "nbconvert_exporter": "python",
   "pygments_lexer": "ipython3",
   "version": "3.10.5"
  }
 },
 "nbformat": 4,
 "nbformat_minor": 5
}
